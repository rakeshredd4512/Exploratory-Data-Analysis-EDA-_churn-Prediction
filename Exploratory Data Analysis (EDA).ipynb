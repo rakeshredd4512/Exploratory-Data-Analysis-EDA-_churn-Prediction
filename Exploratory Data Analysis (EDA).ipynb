{
 "cells": [
  {
   "cell_type": "markdown",
   "metadata": {},
   "source": [
    "# Notebook Structure"
   ]
  },
  {
   "cell_type": "markdown",
   "metadata": {},
   "source": [
    "1. Problem Statement and Data Description\n",
    "2. Loading Datasets and Libraries\n",
    "3. Understanding and Validating the Data\n",
    "4. Data Exploration - Train, Product, Store "
   ]
  },
  {
   "cell_type": "markdown",
   "metadata": {},
   "source": [
    "# 1. Problem Statement and Data Description"
   ]
  },
  {
   "cell_type": "markdown",
   "metadata": {},
   "source": [
    "**Problem Statement:** \n",
    "Prevent overstocking and understocking of Items by forecasting demand of items for the next week, based on historical data.\n",
    "\n",
    "\n"
   ]
  },
  {
   "cell_type": "markdown",
   "metadata": {},
   "source": [
    "**Data Description:**\n",
    "\n",
    "Train Data- \n",
    "- **WEEK_END_DATE** - week ending date\n",
    "- **STORE_NUM** - store number\n",
    "- **UPC** - (Universal Product Code) product specific identifier\n",
    "- **BASE_PRICE** - base price of item\n",
    "- **DISPLAY** - product was a part of in-store promotional display\n",
    "- **FEATURE** - product was in in-store circular\n",
    "- **UNITS** - units sold (target)\n",
    "\n",
    "Product Data-\n",
    "- **UPC** - (Universal Product Code) product specific identifier\n",
    "- **DESCRIPTION**\t- product description\n",
    "- **MANUFACTURER** - product\tmanufacturer\n",
    "- **CATEGORY** - category of product\n",
    "- **SUB_CATEGORY** - sub-category of product\n",
    "- **PRODUCT_SIZE** - package size or quantity of product\n",
    "\n",
    "Store Data-\n",
    "- **STORE_ID** - store number\n",
    "- **STORE_NAME** - Name of store\n",
    "- **ADDRESS_CITY_NAME** - city\n",
    "- **ADDRESS_STATE_PROV_CODE** - state\n",
    "- **MSA_CODE** - (Metropolitan Statistical Area) Based on geographic region and population density\n",
    "- **SEG_VALUE_NAME** - Store Segment Name\n",
    "- **PARKING_SPACE_QTY** - number of parking spaces in the store parking lot\n",
    "- **SALES_AREA_SIZE_NUM** - square footage of store\n",
    "- **AVG_WEEKLY_BASKETS** - average weekly baskets sold in the store"
   ]
  },
  {
   "cell_type": "markdown",
   "metadata": {
    "colab_type": "text",
    "id": "A1oI_26rvzBe"
   },
   "source": [
    "# 2. Loading Required Libraries and Datasets"
   ]
  },
  {
   "cell_type": "code",
   "execution_count": 2,
   "metadata": {
    "colab": {},
    "colab_type": "code",
    "id": "hYwUNz-jvzBi"
   },
   "outputs": [],
   "source": [
    "import seaborn as sns\n",
    "import pandas as pd\n",
    "import numpy as np\n",
    "import random\n",
    "\n",
    "sns.set_context('notebook',font_scale=1.5)\n",
    "\n",
    "import matplotlib.pyplot as plt\n",
    "\n",
    "\n",
    "import warnings\n",
    "warnings.filterwarnings(\"ignore\")"
   ]
  },
  {
   "cell_type": "markdown",
   "metadata": {
    "colab_type": "text",
    "id": "OnN9LgRevzBw"
   },
   "source": [
    "We are provided with three tables containing the required information:\n",
    "\n",
    "- **product_data**: Consists of details about the product\n",
    "- **store_data**: Consists of details of various stores associated with the retailer  \n",
    "- **train**: Contains transaction data of products"
   ]
  },
  {
   "cell_type": "code",
   "execution_count": 4,
   "metadata": {
    "colab": {},
    "colab_type": "code",
    "id": "pETT4v6TvzBy"
   },
   "outputs": [],
   "source": [
    "# reading the data files\n",
    "train = pd.read_csv('train.csv')\n",
    "product_data = pd.read_csv('product_data.csv')\n",
    "store_data = pd.read_csv('store_data.csv')"
   ]
  },
  {
   "cell_type": "code",
   "execution_count": 14,
   "metadata": {
    "colab": {},
    "colab_type": "code",
    "id": "ZK0H2HqSvzB5",
    "outputId": "3a25b8cc-b6a3-4131-e51a-6eeffcb3f0e0"
   },
   "outputs": [
    {
     "data": {
      "text/plain": [
       "((232287, 8), (30, 6), (76, 9))"
      ]
     },
     "execution_count": 14,
     "metadata": {},
     "output_type": "execute_result"
    }
   ],
   "source": [
    "# checking the size of the dataframes\n",
    "train.shape, product_data.shape, store_data.shape"
   ]
  },
  {
   "cell_type": "markdown",
   "metadata": {},
   "source": [
    "# 3. Understanding and Validating Data"
   ]
  },
  {
   "cell_type": "markdown",
   "metadata": {},
   "source": [
    "### Train Data"
   ]
  },
  {
   "cell_type": "code",
   "execution_count": 18,
   "metadata": {
    "colab": {},
    "colab_type": "code",
    "id": "zm2OuAihvzCB",
    "outputId": "7453d4fc-7025-406c-ae32-316bc204c69a"
   },
   "outputs": [
    {
     "data": {
      "text/html": [
       "<div>\n",
       "<style scoped>\n",
       "    .dataframe tbody tr th:only-of-type {\n",
       "        vertical-align: middle;\n",
       "    }\n",
       "\n",
       "    .dataframe tbody tr th {\n",
       "        vertical-align: top;\n",
       "    }\n",
       "\n",
       "    .dataframe thead th {\n",
       "        text-align: right;\n",
       "    }\n",
       "</style>\n",
       "<table border=\"1\" class=\"dataframe\">\n",
       "  <thead>\n",
       "    <tr style=\"text-align: right;\">\n",
       "      <th></th>\n",
       "      <th>WEEK_END_DATE</th>\n",
       "      <th>STORE_NUM</th>\n",
       "      <th>UPC</th>\n",
       "      <th>PRICE</th>\n",
       "      <th>BASE_PRICE</th>\n",
       "      <th>FEATURE</th>\n",
       "      <th>DISPLAY</th>\n",
       "      <th>UNITS</th>\n",
       "    </tr>\n",
       "  </thead>\n",
       "  <tbody>\n",
       "    <tr>\n",
       "      <th>0</th>\n",
       "      <td>14-Jan-09</td>\n",
       "      <td>367</td>\n",
       "      <td>1111009477</td>\n",
       "      <td>1.39</td>\n",
       "      <td>1.57</td>\n",
       "      <td>0</td>\n",
       "      <td>0</td>\n",
       "      <td>13</td>\n",
       "    </tr>\n",
       "    <tr>\n",
       "      <th>1</th>\n",
       "      <td>14-Jan-09</td>\n",
       "      <td>367</td>\n",
       "      <td>1111009497</td>\n",
       "      <td>1.39</td>\n",
       "      <td>1.39</td>\n",
       "      <td>0</td>\n",
       "      <td>0</td>\n",
       "      <td>20</td>\n",
       "    </tr>\n",
       "    <tr>\n",
       "      <th>2</th>\n",
       "      <td>14-Jan-09</td>\n",
       "      <td>367</td>\n",
       "      <td>1111085319</td>\n",
       "      <td>1.88</td>\n",
       "      <td>1.88</td>\n",
       "      <td>0</td>\n",
       "      <td>0</td>\n",
       "      <td>14</td>\n",
       "    </tr>\n",
       "    <tr>\n",
       "      <th>3</th>\n",
       "      <td>14-Jan-09</td>\n",
       "      <td>367</td>\n",
       "      <td>1111085345</td>\n",
       "      <td>1.88</td>\n",
       "      <td>1.88</td>\n",
       "      <td>0</td>\n",
       "      <td>0</td>\n",
       "      <td>29</td>\n",
       "    </tr>\n",
       "    <tr>\n",
       "      <th>4</th>\n",
       "      <td>14-Jan-09</td>\n",
       "      <td>367</td>\n",
       "      <td>1111085350</td>\n",
       "      <td>1.98</td>\n",
       "      <td>1.98</td>\n",
       "      <td>0</td>\n",
       "      <td>0</td>\n",
       "      <td>35</td>\n",
       "    </tr>\n",
       "    <tr>\n",
       "      <th>5</th>\n",
       "      <td>14-Jan-09</td>\n",
       "      <td>367</td>\n",
       "      <td>1111087395</td>\n",
       "      <td>3.36</td>\n",
       "      <td>3.94</td>\n",
       "      <td>0</td>\n",
       "      <td>1</td>\n",
       "      <td>50</td>\n",
       "    </tr>\n",
       "    <tr>\n",
       "      <th>6</th>\n",
       "      <td>14-Jan-09</td>\n",
       "      <td>367</td>\n",
       "      <td>1111087396</td>\n",
       "      <td>3.33</td>\n",
       "      <td>4.00</td>\n",
       "      <td>0</td>\n",
       "      <td>1</td>\n",
       "      <td>61</td>\n",
       "    </tr>\n",
       "    <tr>\n",
       "      <th>7</th>\n",
       "      <td>14-Jan-09</td>\n",
       "      <td>367</td>\n",
       "      <td>1111087398</td>\n",
       "      <td>3.31</td>\n",
       "      <td>4.00</td>\n",
       "      <td>0</td>\n",
       "      <td>1</td>\n",
       "      <td>72</td>\n",
       "    </tr>\n",
       "    <tr>\n",
       "      <th>8</th>\n",
       "      <td>14-Jan-09</td>\n",
       "      <td>367</td>\n",
       "      <td>1600027527</td>\n",
       "      <td>3.19</td>\n",
       "      <td>3.19</td>\n",
       "      <td>0</td>\n",
       "      <td>0</td>\n",
       "      <td>12</td>\n",
       "    </tr>\n",
       "    <tr>\n",
       "      <th>9</th>\n",
       "      <td>14-Jan-09</td>\n",
       "      <td>367</td>\n",
       "      <td>1600027528</td>\n",
       "      <td>4.59</td>\n",
       "      <td>4.59</td>\n",
       "      <td>0</td>\n",
       "      <td>0</td>\n",
       "      <td>31</td>\n",
       "    </tr>\n",
       "  </tbody>\n",
       "</table>\n",
       "</div>"
      ],
      "text/plain": [
       "  WEEK_END_DATE  STORE_NUM         UPC  PRICE  BASE_PRICE  FEATURE  DISPLAY  \\\n",
       "0     14-Jan-09        367  1111009477   1.39        1.57        0        0   \n",
       "1     14-Jan-09        367  1111009497   1.39        1.39        0        0   \n",
       "2     14-Jan-09        367  1111085319   1.88        1.88        0        0   \n",
       "3     14-Jan-09        367  1111085345   1.88        1.88        0        0   \n",
       "4     14-Jan-09        367  1111085350   1.98        1.98        0        0   \n",
       "5     14-Jan-09        367  1111087395   3.36        3.94        0        1   \n",
       "6     14-Jan-09        367  1111087396   3.33        4.00        0        1   \n",
       "7     14-Jan-09        367  1111087398   3.31        4.00        0        1   \n",
       "8     14-Jan-09        367  1600027527   3.19        3.19        0        0   \n",
       "9     14-Jan-09        367  1600027528   4.59        4.59        0        0   \n",
       "\n",
       "   UNITS  \n",
       "0     13  \n",
       "1     20  \n",
       "2     14  \n",
       "3     29  \n",
       "4     35  \n",
       "5     50  \n",
       "6     61  \n",
       "7     72  \n",
       "8     12  \n",
       "9     31  "
      ]
     },
     "execution_count": 18,
     "metadata": {},
     "output_type": "execute_result"
    }
   ],
   "source": [
    "# printing first 5 rows of the train file\n",
    "train.head(10)"
   ]
  },
  {
   "cell_type": "code",
   "execution_count": 17,
   "metadata": {
    "colab": {},
    "colab_type": "code",
    "id": "tG5acpYWvzCJ",
    "outputId": "10407243-65b7-48d3-945f-6b5a12420716"
   },
   "outputs": [
    {
     "data": {
      "text/plain": [
       "WEEK_END_DATE     object\n",
       "STORE_NUM          int64\n",
       "UPC                int64\n",
       "PRICE            float64\n",
       "BASE_PRICE       float64\n",
       "FEATURE            int64\n",
       "DISPLAY            int64\n",
       "UNITS              int64\n",
       "dtype: object"
      ]
     },
     "execution_count": 17,
     "metadata": {},
     "output_type": "execute_result"
    }
   ],
   "source": [
    "# checking datatypes of columns in train file \n",
    "train.dtypes"
   ]
  },
  {
   "cell_type": "markdown",
   "metadata": {},
   "source": [
    "- WEEK_END_DATE has the data type object, but its a datetime variable \n",
    "- The store number and product codes are read as int, but these are categorical variables."
   ]
  },
  {
   "cell_type": "markdown",
   "metadata": {},
   "source": [
    "#### Datetime variable \n",
    "\n",
    "- The data is captured for what duration?\n",
    "- What are the start and end dates?\n",
    "- Is there any missing data points?\n",
    "\n",
    "#### Numerical Variables\n",
    "\n",
    "- Check the distribution of numerical variables\n",
    "- Are there any extreme values?\n",
    "- Are there any missing values in the variables?\n",
    "\n",
    "#### Categorical Variables\n",
    "\n",
    "- Check the unique values for categorical variables\n",
    "- Are there any missing values in the variables?\n",
    "- Is there any variable with high cardinality/ sparsity?\n"
   ]
  },
  {
   "cell_type": "markdown",
   "metadata": {},
   "source": [
    "##### WEEK_END_DATE\n"
   ]
  },
  {
   "cell_type": "code",
   "execution_count": 18,
   "metadata": {},
   "outputs": [],
   "source": [
    "# convert into the date time format\n",
    "train['WEEK_END_DATE'] = pd.to_datetime(train['WEEK_END_DATE'])"
   ]
  },
  {
   "cell_type": "code",
   "execution_count": 19,
   "metadata": {},
   "outputs": [
    {
     "data": {
      "text/plain": [
       "0"
      ]
     },
     "execution_count": 19,
     "metadata": {},
     "output_type": "execute_result"
    }
   ],
   "source": [
    "train['WEEK_END_DATE'].isnull().sum()"
   ]
  },
  {
   "cell_type": "code",
   "execution_count": 20,
   "metadata": {},
   "outputs": [
    {
     "data": {
      "text/plain": [
       "(Timestamp('2009-01-14 00:00:00'), Timestamp('2011-09-28 00:00:00'))"
      ]
     },
     "execution_count": 20,
     "metadata": {},
     "output_type": "execute_result"
    }
   ],
   "source": [
    "train['WEEK_END_DATE'].min(), train['WEEK_END_DATE'].max()"
   ]
  },
  {
   "cell_type": "markdown",
   "metadata": {},
   "source": [
    "- The data collected is from January 2009 to September 2011.\n",
    "\n",
    "#### Are any dates missing from this period?"
   ]
  },
  {
   "cell_type": "code",
   "execution_count": 21,
   "metadata": {},
   "outputs": [
    {
     "data": {
      "text/plain": [
       "Timedelta('141 days 00:00:00')"
      ]
     },
     "execution_count": 21,
     "metadata": {},
     "output_type": "execute_result"
    }
   ],
   "source": [
    "(train['WEEK_END_DATE'].max() - train['WEEK_END_DATE'].min())/7"
   ]
  },
  {
   "cell_type": "code",
   "execution_count": 22,
   "metadata": {
    "colab": {},
    "colab_type": "code",
    "id": "9Ouy1JMMvzDj",
    "outputId": "b218a55a-3abe-46e3-ce53-be0757f2aea2"
   },
   "outputs": [
    {
     "data": {
      "text/plain": [
       "142"
      ]
     },
     "execution_count": 22,
     "metadata": {},
     "output_type": "execute_result"
    }
   ],
   "source": [
    "train['WEEK_END_DATE'].nunique()"
   ]
  },
  {
   "cell_type": "markdown",
   "metadata": {
    "colab_type": "text",
    "id": "yBOkVrykvzDo"
   },
   "source": [
    "- The training data is for 142 weeks, based on the number of unique *weekend dates* in the train file. \n",
    "- No dates are missing from this period.\n",
    "\n",
    "#### Are all dates at a gap of a week?"
   ]
  },
  {
   "cell_type": "code",
   "execution_count": 27,
   "metadata": {
    "scrolled": true
   },
   "outputs": [
    {
     "data": {
      "text/plain": [
       "Wednesday    232287\n",
       "Name: WEEK_END_DATE, dtype: int64"
      ]
     },
     "execution_count": 27,
     "metadata": {},
     "output_type": "execute_result"
    }
   ],
   "source": [
    "train['WEEK_END_DATE'].dt.day_name().value_counts()"
   ]
  },
  {
   "cell_type": "code",
   "execution_count": 28,
   "metadata": {
    "scrolled": true
   },
   "outputs": [
    {
     "data": {
      "text/plain": [
       "Wednesday    232287\n",
       "Name: WEEK_END_DATE, dtype: int64"
      ]
     },
     "execution_count": 28,
     "metadata": {},
     "output_type": "execute_result"
    }
   ],
   "source": [
    "train['WEEK_END_DATE'].dt.day_name().value_counts()"
   ]
  },
  {
   "cell_type": "markdown",
   "metadata": {},
   "source": [
    "##### STORE_NUM  and UPC"
   ]
  },
  {
   "cell_type": "code",
   "execution_count": 29,
   "metadata": {},
   "outputs": [
    {
     "data": {
      "text/plain": [
       "STORE_NUM    0\n",
       "UPC          0\n",
       "dtype: int64"
      ]
     },
     "execution_count": 29,
     "metadata": {},
     "output_type": "execute_result"
    }
   ],
   "source": [
    "train[['STORE_NUM', 'UPC']].isnull().sum()"
   ]
  },
  {
   "cell_type": "code",
   "execution_count": 30,
   "metadata": {},
   "outputs": [
    {
     "data": {
      "text/plain": [
       "76"
      ]
     },
     "execution_count": 30,
     "metadata": {},
     "output_type": "execute_result"
    }
   ],
   "source": [
    "train['STORE_NUM'].nunique()"
   ]
  },
  {
   "cell_type": "code",
   "execution_count": 31,
   "metadata": {},
   "outputs": [
    {
     "data": {
      "text/plain": [
       "8035     1676\n",
       "23055    1823\n",
       "2523     1977\n",
       "11967    2104\n",
       "15755    2253\n",
       "         ... \n",
       "2277     3824\n",
       "21237    3950\n",
       "9825     3955\n",
       "24991    3967\n",
       "2513     4098\n",
       "Name: STORE_NUM, Length: 76, dtype: int64"
      ]
     },
     "execution_count": 31,
     "metadata": {},
     "output_type": "execute_result"
    }
   ],
   "source": [
    "(train['STORE_NUM'].value_counts()).sort_values()"
   ]
  },
  {
   "cell_type": "markdown",
   "metadata": {},
   "source": [
    "- We have 76 unique stores.\n",
    "- Every store has minimum of 1676 transactions."
   ]
  },
  {
   "cell_type": "markdown",
   "metadata": {},
   "source": [
    "#### Does each store hold atleast one entry per week?"
   ]
  },
  {
   "cell_type": "markdown",
   "metadata": {
    "colab_type": "text",
    "id": "LsUrSHvAvzEG"
   },
   "source": [
    "We have 76 unique stores and 142 weeks of data for the sales. If each store is selling occupies atleast one row in the data, the minimum number of unique rows should be 142*76"
   ]
  },
  {
   "cell_type": "code",
   "execution_count": 32,
   "metadata": {
    "colab": {},
    "colab_type": "code",
    "id": "BC0o0ZK0vzEI",
    "outputId": "b214e520-6b20-4db5-9680-72422f52e2cb"
   },
   "outputs": [
    {
     "data": {
      "text/plain": [
       "10792"
      ]
     },
     "execution_count": 32,
     "metadata": {},
     "output_type": "execute_result"
    }
   ],
   "source": [
    "142*76"
   ]
  },
  {
   "cell_type": "code",
   "execution_count": 33,
   "metadata": {
    "colab": {},
    "colab_type": "code",
    "id": "Nn6EanTkvzEN",
    "outputId": "50211d19-cb2d-40c2-94f8-ffc63d1665df"
   },
   "outputs": [
    {
     "data": {
      "text/plain": [
       "(10792, 2)"
      ]
     },
     "execution_count": 33,
     "metadata": {},
     "output_type": "execute_result"
    }
   ],
   "source": [
    "train[['WEEK_END_DATE','STORE_NUM']].drop_duplicates().shape"
   ]
  },
  {
   "cell_type": "markdown",
   "metadata": {
    "colab_type": "text",
    "id": "B7QbsP_bvzEU"
   },
   "source": [
    "- Implies that each store is atleast selling 1 product each week"
   ]
  },
  {
   "cell_type": "code",
   "execution_count": 34,
   "metadata": {},
   "outputs": [
    {
     "data": {
      "text/plain": [
       "30"
      ]
     },
     "execution_count": 34,
     "metadata": {},
     "output_type": "execute_result"
    }
   ],
   "source": [
    "train['UPC'].nunique()"
   ]
  },
  {
   "cell_type": "code",
   "execution_count": 35,
   "metadata": {
    "scrolled": true
   },
   "outputs": [
    {
     "data": {
      "text/plain": [
       "3700044982       975\n",
       "3700031613      1664\n",
       "31254742835     2086\n",
       "7797508004      2386\n",
       "1111038080      2797\n",
       "7797508006      2933\n",
       "31254742735     3202\n",
       "7218063052      3641\n",
       "7797502248      6916\n",
       "1111038078      7131\n",
       "2840004770      7636\n",
       "1111009507      8067\n",
       "1111087396      8131\n",
       "1111087395      8155\n",
       "2840004768      8488\n",
       "7192100336      9126\n",
       "1111087398      9989\n",
       "1111009477     10356\n",
       "1111009497     10498\n",
       "7192100337     10588\n",
       "1111085319     10636\n",
       "3800031829     10640\n",
       "3800039118     10766\n",
       "7192100339     10767\n",
       "1111085350     10775\n",
       "3800031838     10785\n",
       "1600027564     10786\n",
       "1600027528     10788\n",
       "1111085345     10789\n",
       "1600027527     10790\n",
       "Name: UPC, dtype: int64"
      ]
     },
     "execution_count": 35,
     "metadata": {},
     "output_type": "execute_result"
    }
   ],
   "source": [
    "(train['UPC'].value_counts()).sort_values()"
   ]
  },
  {
   "cell_type": "markdown",
   "metadata": {},
   "source": [
    "\n",
    "#### Is every product sold atleast once, for all 142 weeks?"
   ]
  },
  {
   "cell_type": "code",
   "execution_count": 36,
   "metadata": {},
   "outputs": [
    {
     "data": {
      "text/plain": [
       "4260"
      ]
     },
     "execution_count": 36,
     "metadata": {},
     "output_type": "execute_result"
    }
   ],
   "source": [
    "142*30"
   ]
  },
  {
   "cell_type": "code",
   "execution_count": 37,
   "metadata": {},
   "outputs": [
    {
     "data": {
      "text/plain": [
       "(4260, 2)"
      ]
     },
     "execution_count": 37,
     "metadata": {},
     "output_type": "execute_result"
    }
   ],
   "source": [
    "train[['WEEK_END_DATE','UPC']].drop_duplicates().shape"
   ]
  },
  {
   "cell_type": "markdown",
   "metadata": {},
   "source": [
    "- We have 30 unique products in the training data\n",
    "- There are 76 different stores associated with the retailer\n",
    "- Both the variables do not have any missing values"
   ]
  },
  {
   "cell_type": "markdown",
   "metadata": {},
   "source": [
    "#### Is each store selling each product throughout the given period?"
   ]
  },
  {
   "cell_type": "markdown",
   "metadata": {},
   "source": [
    "Assuming we have information for the sale of every product that is present in the product table (30), against each store associated (76), and for every week (142); we should have 142*76*30 data rows. "
   ]
  },
  {
   "cell_type": "code",
   "execution_count": 38,
   "metadata": {},
   "outputs": [
    {
     "data": {
      "text/plain": [
       "323760"
      ]
     },
     "execution_count": 38,
     "metadata": {},
     "output_type": "execute_result"
    }
   ],
   "source": [
    "142*76*30"
   ]
  },
  {
   "cell_type": "code",
   "execution_count": 39,
   "metadata": {},
   "outputs": [
    {
     "data": {
      "text/plain": [
       "(232287, 8)"
      ]
     },
     "execution_count": 39,
     "metadata": {},
     "output_type": "execute_result"
    }
   ],
   "source": [
    "train.shape"
   ]
  },
  {
   "cell_type": "code",
   "execution_count": 40,
   "metadata": {},
   "outputs": [
    {
     "data": {
      "text/plain": [
       "0.7174635532493204"
      ]
     },
     "execution_count": 40,
     "metadata": {},
     "output_type": "execute_result"
    }
   ],
   "source": [
    "232286/323760 "
   ]
  },
  {
   "cell_type": "markdown",
   "metadata": {},
   "source": [
    "- We can conclude that all stores are not selling all products each week\n",
    "- Of all the possible combinations, about 72% of the data is present"
   ]
  },
  {
   "cell_type": "markdown",
   "metadata": {},
   "source": [
    "#### For a store selling a particular product, do we have more than one entry?"
   ]
  },
  {
   "cell_type": "markdown",
   "metadata": {
    "colab_type": "text",
    "id": "B7QbsP_bvzEU"
   },
   "source": [
    "\n",
    "Each product sold by any store should hold only one row, i.e. a particular store, say 'store A' selling a product 'prod P' should contribute a single row for every week. Let us check that."
   ]
  },
  {
   "cell_type": "code",
   "execution_count": 41,
   "metadata": {
    "colab": {},
    "colab_type": "code",
    "id": "NemVfQrFvzEX",
    "outputId": "4f169a52-c62e-4d4a-d8bc-8073e4757ce1"
   },
   "outputs": [
    {
     "data": {
      "text/plain": [
       "(232287, 8)"
      ]
     },
     "execution_count": 41,
     "metadata": {},
     "output_type": "execute_result"
    }
   ],
   "source": [
    "train.shape"
   ]
  },
  {
   "cell_type": "code",
   "execution_count": 42,
   "metadata": {
    "colab": {},
    "colab_type": "code",
    "id": "pMqOV5LVvzEb",
    "outputId": "bd1fe090-6409-4f1e-c13d-288bfdba2157"
   },
   "outputs": [
    {
     "data": {
      "text/plain": [
       "(232287, 3)"
      ]
     },
     "execution_count": 42,
     "metadata": {},
     "output_type": "execute_result"
    }
   ],
   "source": [
    "train[['WEEK_END_DATE','STORE_NUM','UPC']].drop_duplicates().shape"
   ]
  },
  {
   "cell_type": "code",
   "execution_count": 43,
   "metadata": {
    "colab": {},
    "colab_type": "code",
    "id": "LCuTGcQsvzEf",
    "outputId": "002a4249-2130-4351-fcb6-212f1f1992d1"
   },
   "outputs": [
    {
     "data": {
      "text/plain": [
       "21.523999258710155"
      ]
     },
     "execution_count": 43,
     "metadata": {},
     "output_type": "execute_result"
    }
   ],
   "source": [
    "train.groupby(['WEEK_END_DATE','STORE_NUM'])['UPC'].count().mean()"
   ]
  },
  {
   "cell_type": "markdown",
   "metadata": {
    "colab_type": "text",
    "id": "SdNtfwoKvzEk"
   },
   "source": [
    "- The shape does not change after using drop duplicates\n",
    "- Implies that there are unique combinations for week, store and UPC\n",
    "- On an average, each week we are selling 22 products"
   ]
  },
  {
   "cell_type": "markdown",
   "metadata": {},
   "source": [
    "#### Is a store selling a product throughout the period or is there a break?"
   ]
  },
  {
   "cell_type": "code",
   "execution_count": 44,
   "metadata": {},
   "outputs": [
    {
     "data": {
      "text/plain": [
       "STORE_NUM  UPC       \n",
       "4489       1111087396    137\n",
       "19265      7797508006    137\n",
       "21221      7797508004    137\n",
       "6187       1111038080    137\n",
       "23349      2840004768    137\n",
       "                        ... \n",
       "11993      1111085345    142\n",
       "           1111085319    142\n",
       "           1111038080    142\n",
       "           1600027564    142\n",
       "29159      7797508004    142\n",
       "Name: UNITS, Length: 1644, dtype: int64"
      ]
     },
     "execution_count": 44,
     "metadata": {},
     "output_type": "execute_result"
    }
   ],
   "source": [
    "(train.groupby(['STORE_NUM', 'UPC'])['UNITS'].count()).sort_values()"
   ]
  },
  {
   "cell_type": "markdown",
   "metadata": {},
   "source": [
    "- Not all stores sell a product throughout the week\n",
    "- The minimum number is 137/142"
   ]
  },
  {
   "cell_type": "markdown",
   "metadata": {
    "colab_type": "text",
    "id": "u4Wet8oyvzEl"
   },
   "source": [
    "We now have a basic understanding of the number of products and stores we are dealing with in this data."
   ]
  },
  {
   "cell_type": "markdown",
   "metadata": {},
   "source": [
    "##### BASE_PRICE"
   ]
  },
  {
   "cell_type": "code",
   "execution_count": 45,
   "metadata": {},
   "outputs": [
    {
     "data": {
      "text/plain": [
       "12"
      ]
     },
     "execution_count": 45,
     "metadata": {},
     "output_type": "execute_result"
    }
   ],
   "source": [
    "train['BASE_PRICE'].isnull().sum()"
   ]
  },
  {
   "cell_type": "code",
   "execution_count": 46,
   "metadata": {
    "scrolled": true
   },
   "outputs": [
    {
     "data": {
      "text/plain": [
       "count    232275.000000\n",
       "mean          3.345204\n",
       "std           1.678181\n",
       "min           0.860000\n",
       "25%           1.950000\n",
       "50%           2.990000\n",
       "75%           4.080000\n",
       "max           7.890000\n",
       "Name: BASE_PRICE, dtype: float64"
      ]
     },
     "execution_count": 46,
     "metadata": {},
     "output_type": "execute_result"
    }
   ],
   "source": [
    "train['BASE_PRICE'].describe()"
   ]
  },
  {
   "cell_type": "code",
   "execution_count": 47,
   "metadata": {},
   "outputs": [
    {
     "data": {
      "image/png": "[encoded data removed]",
      "text/plain": [
       "<Figure size 576x432 with 1 Axes>"
      ]
     },
     "metadata": {
      "needs_background": "light"
     },
     "output_type": "display_data"
    }
   ],
   "source": [
    "# distribution of Base Price variable\n",
    "plt.figure(figsize=(8,6))\n",
    "sns.distplot((train['BASE_PRICE'].values), bins=20, kde=True)\n",
    "plt.xlabel('Price Distribution', fontsize=12)\n",
    "plt.show()"
   ]
  },
  {
   "cell_type": "markdown",
   "metadata": {},
   "source": [
    "- No extreme values in the base price variable\n",
    "- Range for base price is 1 dollar to 8 dollars"
   ]
  },
  {
   "cell_type": "markdown",
   "metadata": {},
   "source": [
    "##### FEATURE and DISPLAY"
   ]
  },
  {
   "cell_type": "code",
   "execution_count": 48,
   "metadata": {},
   "outputs": [
    {
     "data": {
      "text/plain": [
       "FEATURE    0\n",
       "DISPLAY    0\n",
       "dtype: int64"
      ]
     },
     "execution_count": 48,
     "metadata": {},
     "output_type": "execute_result"
    }
   ],
   "source": [
    "train[['FEATURE','DISPLAY']].isnull().sum()"
   ]
  },
  {
   "cell_type": "code",
   "execution_count": 49,
   "metadata": {},
   "outputs": [
    {
     "data": {
      "text/plain": [
       "FEATURE    int64\n",
       "DISPLAY    int64\n",
       "dtype: object"
      ]
     },
     "execution_count": 49,
     "metadata": {},
     "output_type": "execute_result"
    }
   ],
   "source": [
    "train[['FEATURE','DISPLAY']].dtypes"
   ]
  },
  {
   "cell_type": "code",
   "execution_count": 50,
   "metadata": {},
   "outputs": [
    {
     "data": {
      "text/plain": [
       "FEATURE    2\n",
       "DISPLAY    2\n",
       "dtype: int64"
      ]
     },
     "execution_count": 50,
     "metadata": {},
     "output_type": "execute_result"
    }
   ],
   "source": [
    "train[['FEATURE','DISPLAY']].nunique()"
   ]
  },
  {
   "cell_type": "code",
   "execution_count": 51,
   "metadata": {},
   "outputs": [
    {
     "data": {
      "text/plain": [
       "0    0.900111\n",
       "1    0.099889\n",
       "Name: FEATURE, dtype: float64"
      ]
     },
     "execution_count": 51,
     "metadata": {},
     "output_type": "execute_result"
    }
   ],
   "source": [
    "train['FEATURE'].value_counts(normalize=True)"
   ]
  },
  {
   "cell_type": "code",
   "execution_count": 23,
   "metadata": {},
   "outputs": [
    {
     "data": {
      "text/plain": [
       "<Axes: xlabel='FEATURE'>"
      ]
     },
     "execution_count": 23,
     "metadata": {},
     "output_type": "execute_result"
    },
    {
     "data": {
      "image/png": "[encoded data removed]",
      "text/plain": [
       "<Figure size 640x480 with 1 Axes>"
      ]
     },
     "metadata": {},
     "output_type": "display_data"
    }
   ],
   "source": [
    "train['FEATURE'].value_counts(normalize=True).plot(kind='bar')"
   ]
  },
  {
   "cell_type": "markdown",
   "metadata": {},
   "source": [
    "- Approximately 10 percent of product are featured"
   ]
  },
  {
   "cell_type": "code",
   "execution_count": 56,
   "metadata": {},
   "outputs": [
    {
     "data": {
      "text/plain": [
       "0    0.864999\n",
       "1    0.135001\n",
       "Name: DISPLAY, dtype: float64"
      ]
     },
     "execution_count": 56,
     "metadata": {},
     "output_type": "execute_result"
    }
   ],
   "source": [
    "train['DISPLAY'].value_counts(normalize=True)"
   ]
  },
  {
   "cell_type": "code",
   "execution_count": 12,
   "metadata": {
    "scrolled": true
   },
   "outputs": [
    {
     "data": {
      "text/plain": [
       "<Axes: xlabel='DISPLAY'>"
      ]
     },
     "execution_count": 12,
     "metadata": {},
     "output_type": "execute_result"
    },
    {
     "data": {
      "image/png": "[encoded data removed]",
      "text/plain": [
       "<Figure size 640x480 with 1 Axes>"
      ]
     },
     "metadata": {},
     "output_type": "display_data"
    }
   ],
   "source": [
    "train['DISPLAY'].value_counts(normalize=True).plot(kind='bar')"
   ]
  },
  {
   "cell_type": "markdown",
   "metadata": {},
   "source": [
    "- About 13% of products are on display"
   ]
  },
  {
   "cell_type": "code",
   "execution_count": 58,
   "metadata": {
    "scrolled": true
   },
   "outputs": [
    {
     "data": {
      "text/html": [
       "<div>\n",
       "<style scoped>\n",
       "    .dataframe tbody tr th:only-of-type {\n",
       "        vertical-align: middle;\n",
       "    }\n",
       "\n",
       "    .dataframe tbody tr th {\n",
       "        vertical-align: top;\n",
       "    }\n",
       "\n",
       "    .dataframe thead th {\n",
       "        text-align: right;\n",
       "    }\n",
       "</style>\n",
       "<table border=\"1\" class=\"dataframe\">\n",
       "  <thead>\n",
       "    <tr style=\"text-align: right;\">\n",
       "      <th>DISPLAY</th>\n",
       "      <th>0</th>\n",
       "      <th>1</th>\n",
       "    </tr>\n",
       "    <tr>\n",
       "      <th>FEATURE</th>\n",
       "      <th></th>\n",
       "      <th></th>\n",
       "    </tr>\n",
       "  </thead>\n",
       "  <tbody>\n",
       "    <tr>\n",
       "      <th>0</th>\n",
       "      <td>0.821824</td>\n",
       "      <td>0.078287</td>\n",
       "    </tr>\n",
       "    <tr>\n",
       "      <th>1</th>\n",
       "      <td>0.043175</td>\n",
       "      <td>0.056714</td>\n",
       "    </tr>\n",
       "  </tbody>\n",
       "</table>\n",
       "</div>"
      ],
      "text/plain": [
       "DISPLAY         0         1\n",
       "FEATURE                    \n",
       "0        0.821824  0.078287\n",
       "1        0.043175  0.056714"
      ]
     },
     "execution_count": 58,
     "metadata": {},
     "output_type": "execute_result"
    }
   ],
   "source": [
    "pd.crosstab(train['FEATURE'], train['DISPLAY']).apply(lambda r: r/len(train), axis=1)"
   ]
  },
  {
   "cell_type": "markdown",
   "metadata": {
    "colab_type": "text",
    "id": "yKlK72bYvzCU"
   },
   "source": [
    "##### UNITS"
   ]
  },
  {
   "cell_type": "code",
   "execution_count": 59,
   "metadata": {},
   "outputs": [
    {
     "data": {
      "text/plain": [
       "0"
      ]
     },
     "execution_count": 59,
     "metadata": {},
     "output_type": "execute_result"
    }
   ],
   "source": [
    "train['UNITS'].isnull().sum()"
   ]
  },
  {
   "cell_type": "code",
   "execution_count": 60,
   "metadata": {
    "colab": {},
    "colab_type": "code",
    "id": "BQXoLoDPvzCX",
    "outputId": "61c93834-4244-40d6-82c0-e18d08021ec3",
    "scrolled": true
   },
   "outputs": [
    {
     "data": {
      "text/plain": [
       "count    232287.000000\n",
       "mean         28.063525\n",
       "std          35.954341\n",
       "min           0.000000\n",
       "25%           9.000000\n",
       "50%          18.000000\n",
       "75%          34.000000\n",
       "max        1800.000000\n",
       "Name: UNITS, dtype: float64"
      ]
     },
     "execution_count": 60,
     "metadata": {},
     "output_type": "execute_result"
    }
   ],
   "source": [
    "# basic statistical details of UNITS variable\n",
    "train['UNITS'].describe()"
   ]
  },
  {
   "cell_type": "markdown",
   "metadata": {
    "colab_type": "text",
    "id": "dZGTsHI4vzCe"
   },
   "source": [
    "- The Range of values is very high\n",
    "- Minimum number of units sold is 0 and maximum is 1800\n",
    "- A huge difference between the 75th percentile and the max value indicates presence of outliers"
   ]
  },
  {
   "cell_type": "markdown",
   "metadata": {},
   "source": [
    "#### How many rows in the data have 0 units sold?\n",
    "#### Is there only one row with such high sales of 1800? "
   ]
  },
  {
   "cell_type": "code",
   "execution_count": 61,
   "metadata": {
    "colab": {},
    "colab_type": "code",
    "id": "EO-k9maYvzCo",
    "outputId": "bd948207-46ff-43f1-b6b9-0d93a4029bba"
   },
   "outputs": [
    {
     "data": {
      "text/html": [
       "<div>\n",
       "<style scoped>\n",
       "    .dataframe tbody tr th:only-of-type {\n",
       "        vertical-align: middle;\n",
       "    }\n",
       "\n",
       "    .dataframe tbody tr th {\n",
       "        vertical-align: top;\n",
       "    }\n",
       "\n",
       "    .dataframe thead th {\n",
       "        text-align: right;\n",
       "    }\n",
       "</style>\n",
       "<table border=\"1\" class=\"dataframe\">\n",
       "  <thead>\n",
       "    <tr style=\"text-align: right;\">\n",
       "      <th></th>\n",
       "      <th>WEEK_END_DATE</th>\n",
       "      <th>STORE_NUM</th>\n",
       "      <th>UPC</th>\n",
       "      <th>PRICE</th>\n",
       "      <th>BASE_PRICE</th>\n",
       "      <th>FEATURE</th>\n",
       "      <th>DISPLAY</th>\n",
       "      <th>UNITS</th>\n",
       "    </tr>\n",
       "  </thead>\n",
       "  <tbody>\n",
       "    <tr>\n",
       "      <th>76752</th>\n",
       "      <td>2009-12-02</td>\n",
       "      <td>28909</td>\n",
       "      <td>31254742735</td>\n",
       "      <td>NaN</td>\n",
       "      <td>4.99</td>\n",
       "      <td>0</td>\n",
       "      <td>0</td>\n",
       "      <td>0</td>\n",
       "    </tr>\n",
       "  </tbody>\n",
       "</table>\n",
       "</div>"
      ],
      "text/plain": [
       "      WEEK_END_DATE  STORE_NUM          UPC  PRICE  BASE_PRICE  FEATURE  \\\n",
       "76752    2009-12-02      28909  31254742735    NaN        4.99        0   \n",
       "\n",
       "       DISPLAY  UNITS  \n",
       "76752        0      0  "
      ]
     },
     "execution_count": 61,
     "metadata": {},
     "output_type": "execute_result"
    }
   ],
   "source": [
    "train[train['UNITS'] == 0]"
   ]
  },
  {
   "cell_type": "markdown",
   "metadata": {
    "colab_type": "text",
    "id": "xS5i9GXNvzCu"
   },
   "source": [
    "- Only one entry with 0 items sold\n",
    "- Indicates the given store does not sell the following item\n",
    "- It's simply a Data Anomaly and will not be useful in model training"
   ]
  },
  {
   "cell_type": "code",
   "execution_count": 62,
   "metadata": {
    "colab": {},
    "colab_type": "code",
    "id": "3Kmam1USvzCv"
   },
   "outputs": [],
   "source": [
    "# keeping rows with UNITS sold not equal to zero\n",
    "train = train[train['UNITS'] != 0]"
   ]
  },
  {
   "cell_type": "code",
   "execution_count": 63,
   "metadata": {
    "colab": {},
    "colab_type": "code",
    "id": "TFQPayvavzCg",
    "outputId": "074a6969-5510-43d8-cb7a-3cc7e32a3edf"
   },
   "outputs": [
    {
     "data": {
      "image/png": "[encoded data removed]",
      "text/plain": [
       "<Figure size 576x432 with 1 Axes>"
      ]
     },
     "metadata": {
      "needs_background": "light"
     },
     "output_type": "display_data"
    }
   ],
   "source": [
    "# scatter plot for UNITS variable\n",
    "plt.figure(figsize=(8,6))\n",
    "plt.scatter(x = range(train.shape[0]), y = np.sort(train['UNITS'].values))\n",
    "plt.xlabel('Index', fontsize=12)\n",
    "plt.ylabel('Units Sold', fontsize=12)\n",
    "plt.show()"
   ]
  },
  {
   "cell_type": "markdown",
   "metadata": {
    "colab_type": "text",
    "id": "Hp0KI1WMvzCm"
   },
   "source": [
    "- Most of the values are less than 250 \n",
    "- There are a few outliers (with 1 outlier way outside the range)"
   ]
  },
  {
   "cell_type": "code",
   "execution_count": 64,
   "metadata": {},
   "outputs": [
    {
     "data": {
      "text/html": [
       "<div>\n",
       "<style scoped>\n",
       "    .dataframe tbody tr th:only-of-type {\n",
       "        vertical-align: middle;\n",
       "    }\n",
       "\n",
       "    .dataframe tbody tr th {\n",
       "        vertical-align: top;\n",
       "    }\n",
       "\n",
       "    .dataframe thead th {\n",
       "        text-align: right;\n",
       "    }\n",
       "</style>\n",
       "<table border=\"1\" class=\"dataframe\">\n",
       "  <thead>\n",
       "    <tr style=\"text-align: right;\">\n",
       "      <th></th>\n",
       "      <th>WEEK_END_DATE</th>\n",
       "      <th>STORE_NUM</th>\n",
       "      <th>UPC</th>\n",
       "      <th>PRICE</th>\n",
       "      <th>BASE_PRICE</th>\n",
       "      <th>FEATURE</th>\n",
       "      <th>DISPLAY</th>\n",
       "      <th>UNITS</th>\n",
       "    </tr>\n",
       "  </thead>\n",
       "  <tbody>\n",
       "    <tr>\n",
       "      <th>7893</th>\n",
       "      <td>2009-02-11</td>\n",
       "      <td>24991</td>\n",
       "      <td>1600027527</td>\n",
       "      <td>1.67</td>\n",
       "      <td>3.19</td>\n",
       "      <td>1</td>\n",
       "      <td>0</td>\n",
       "      <td>1006</td>\n",
       "    </tr>\n",
       "    <tr>\n",
       "      <th>7960</th>\n",
       "      <td>2009-02-11</td>\n",
       "      <td>25027</td>\n",
       "      <td>1600027527</td>\n",
       "      <td>1.64</td>\n",
       "      <td>3.19</td>\n",
       "      <td>1</td>\n",
       "      <td>1</td>\n",
       "      <td>1800</td>\n",
       "    </tr>\n",
       "    <tr>\n",
       "      <th>9597</th>\n",
       "      <td>2009-02-18</td>\n",
       "      <td>25027</td>\n",
       "      <td>1600027527</td>\n",
       "      <td>1.60</td>\n",
       "      <td>3.19</td>\n",
       "      <td>0</td>\n",
       "      <td>1</td>\n",
       "      <td>1054</td>\n",
       "    </tr>\n",
       "    <tr>\n",
       "      <th>11209</th>\n",
       "      <td>2009-02-25</td>\n",
       "      <td>25027</td>\n",
       "      <td>1600027527</td>\n",
       "      <td>1.64</td>\n",
       "      <td>3.19</td>\n",
       "      <td>1</td>\n",
       "      <td>1</td>\n",
       "      <td>1136</td>\n",
       "    </tr>\n",
       "  </tbody>\n",
       "</table>\n",
       "</div>"
      ],
      "text/plain": [
       "      WEEK_END_DATE  STORE_NUM         UPC  PRICE  BASE_PRICE  FEATURE  \\\n",
       "7893     2009-02-11      24991  1600027527   1.67        3.19        1   \n",
       "7960     2009-02-11      25027  1600027527   1.64        3.19        1   \n",
       "9597     2009-02-18      25027  1600027527   1.60        3.19        0   \n",
       "11209    2009-02-25      25027  1600027527   1.64        3.19        1   \n",
       "\n",
       "       DISPLAY  UNITS  \n",
       "7893         0   1006  \n",
       "7960         1   1800  \n",
       "9597         1   1054  \n",
       "11209        1   1136  "
      ]
     },
     "execution_count": 64,
     "metadata": {},
     "output_type": "execute_result"
    }
   ],
   "source": [
    "train[train['UNITS'] > 1000]"
   ]
  },
  {
   "cell_type": "markdown",
   "metadata": {
    "colab_type": "text",
    "id": "ko3MG82XvzC_"
   },
   "source": [
    "To reduce the effect of outliers and for better visualization, here is a log transform of the variable\n"
   ]
  },
  {
   "cell_type": "code",
   "execution_count": 65,
   "metadata": {},
   "outputs": [
    {
     "data": {
      "image/png": "[encoded data removed]",
      "text/plain": [
       "<Figure size 576x432 with 1 Axes>"
      ]
     },
     "metadata": {
      "needs_background": "light"
     },
     "output_type": "display_data"
    }
   ],
   "source": [
    "# distribution of UNITS variable\n",
    "plt.figure(figsize=(8,6))\n",
    "sns.distplot((train['UNITS'].values), bins=25, kde=True)\n",
    "plt.xlabel('Units Sold', fontsize=12)\n",
    "plt.show()"
   ]
  },
  {
   "cell_type": "code",
   "execution_count": 66,
   "metadata": {
    "colab": {},
    "colab_type": "code",
    "id": "vX4OJmNuvzDA",
    "outputId": "838337b9-698c-4727-8f14-d1a0555000f5"
   },
   "outputs": [
    {
     "data": {
      "image/png": "[encoded data removed]",
      "text/plain": [
       "<Figure size 576x432 with 1 Axes>"
      ]
     },
     "metadata": {
      "needs_background": "light"
     },
     "output_type": "display_data"
    }
   ],
   "source": [
    "# log transformed UNITS column\n",
    "plt.figure(figsize=(8,6))\n",
    "sns.distplot(np.log(train['UNITS'].values), bins=25, kde=True)\n",
    "plt.xlabel('Log Units Sold', fontsize=12)\n",
    "plt.show()"
   ]
  },
  {
   "cell_type": "markdown",
   "metadata": {
    "colab_type": "text",
    "id": "Gg02N71yvzDH"
   },
   "source": [
    "- After log transformation, the distribution looks closer to a normal distribution"
   ]
  },
  {
   "cell_type": "markdown",
   "metadata": {
    "colab_type": "text",
    "id": "NY9TmWWRvzE7"
   },
   "source": [
    "### Understanding Product Data"
   ]
  },
  {
   "cell_type": "code",
   "execution_count": 67,
   "metadata": {
    "colab": {},
    "colab_type": "code",
    "id": "DS51YgjvvzE9",
    "outputId": "271987e3-8177-47ab-f452-4f05f51601c0"
   },
   "outputs": [
    {
     "data": {
      "text/html": [
       "<div>\n",
       "<style scoped>\n",
       "    .dataframe tbody tr th:only-of-type {\n",
       "        vertical-align: middle;\n",
       "    }\n",
       "\n",
       "    .dataframe tbody tr th {\n",
       "        vertical-align: top;\n",
       "    }\n",
       "\n",
       "    .dataframe thead th {\n",
       "        text-align: right;\n",
       "    }\n",
       "</style>\n",
       "<table border=\"1\" class=\"dataframe\">\n",
       "  <thead>\n",
       "    <tr style=\"text-align: right;\">\n",
       "      <th></th>\n",
       "      <th>UPC</th>\n",
       "      <th>DESCRIPTION</th>\n",
       "      <th>MANUFACTURER</th>\n",
       "      <th>CATEGORY</th>\n",
       "      <th>SUB_CATEGORY</th>\n",
       "      <th>PRODUCT_SIZE</th>\n",
       "    </tr>\n",
       "  </thead>\n",
       "  <tbody>\n",
       "    <tr>\n",
       "      <th>0</th>\n",
       "      <td>1111009477</td>\n",
       "      <td>PL MINI TWIST PRETZELS</td>\n",
       "      <td>PRIVATE LABEL</td>\n",
       "      <td>BAG SNACKS</td>\n",
       "      <td>PRETZELS</td>\n",
       "      <td>15 OZ</td>\n",
       "    </tr>\n",
       "    <tr>\n",
       "      <th>1</th>\n",
       "      <td>1111009497</td>\n",
       "      <td>PL PRETZEL STICKS</td>\n",
       "      <td>PRIVATE LABEL</td>\n",
       "      <td>BAG SNACKS</td>\n",
       "      <td>PRETZELS</td>\n",
       "      <td>15 OZ</td>\n",
       "    </tr>\n",
       "    <tr>\n",
       "      <th>2</th>\n",
       "      <td>1111009507</td>\n",
       "      <td>PL TWIST PRETZELS</td>\n",
       "      <td>PRIVATE LABEL</td>\n",
       "      <td>BAG SNACKS</td>\n",
       "      <td>PRETZELS</td>\n",
       "      <td>15 OZ</td>\n",
       "    </tr>\n",
       "    <tr>\n",
       "      <th>3</th>\n",
       "      <td>1111038078</td>\n",
       "      <td>PL BL MINT ANTSPTC RINSE</td>\n",
       "      <td>PRIVATE LABEL</td>\n",
       "      <td>ORAL HYGIENE PRODUCTS</td>\n",
       "      <td>MOUTHWASHES (ANTISEPTIC)</td>\n",
       "      <td>500 ML</td>\n",
       "    </tr>\n",
       "    <tr>\n",
       "      <th>4</th>\n",
       "      <td>1111038080</td>\n",
       "      <td>PL ANTSPTC SPG MNT MTHWS</td>\n",
       "      <td>PRIVATE LABEL</td>\n",
       "      <td>ORAL HYGIENE PRODUCTS</td>\n",
       "      <td>MOUTHWASHES (ANTISEPTIC)</td>\n",
       "      <td>500 ML</td>\n",
       "    </tr>\n",
       "  </tbody>\n",
       "</table>\n",
       "</div>"
      ],
      "text/plain": [
       "          UPC               DESCRIPTION   MANUFACTURER               CATEGORY  \\\n",
       "0  1111009477    PL MINI TWIST PRETZELS  PRIVATE LABEL             BAG SNACKS   \n",
       "1  1111009497         PL PRETZEL STICKS  PRIVATE LABEL             BAG SNACKS   \n",
       "2  1111009507         PL TWIST PRETZELS  PRIVATE LABEL             BAG SNACKS   \n",
       "3  1111038078  PL BL MINT ANTSPTC RINSE  PRIVATE LABEL  ORAL HYGIENE PRODUCTS   \n",
       "4  1111038080  PL ANTSPTC SPG MNT MTHWS  PRIVATE LABEL  ORAL HYGIENE PRODUCTS   \n",
       "\n",
       "               SUB_CATEGORY PRODUCT_SIZE  \n",
       "0                  PRETZELS        15 OZ  \n",
       "1                  PRETZELS        15 OZ  \n",
       "2                  PRETZELS        15 OZ  \n",
       "3  MOUTHWASHES (ANTISEPTIC)       500 ML  \n",
       "4  MOUTHWASHES (ANTISEPTIC)       500 ML  "
      ]
     },
     "execution_count": 67,
     "metadata": {},
     "output_type": "execute_result"
    }
   ],
   "source": [
    "# first five rows of product data\n",
    "product_data.head()"
   ]
  },
  {
   "cell_type": "code",
   "execution_count": 68,
   "metadata": {},
   "outputs": [
    {
     "data": {
      "text/plain": [
       "UPC              int64\n",
       "DESCRIPTION     object\n",
       "MANUFACTURER    object\n",
       "CATEGORY        object\n",
       "SUB_CATEGORY    object\n",
       "PRODUCT_SIZE    object\n",
       "dtype: object"
      ]
     },
     "execution_count": 68,
     "metadata": {},
     "output_type": "execute_result"
    }
   ],
   "source": [
    "product_data.dtypes"
   ]
  },
  {
   "cell_type": "markdown",
   "metadata": {},
   "source": [
    "#### Categorical Variables\n",
    "\n",
    "- Check the unique values for categorical variables\n",
    "- Are there any missing values in the variables?\n",
    "- Is there any variable with high cardinality/ sparsity?"
   ]
  },
  {
   "cell_type": "markdown",
   "metadata": {},
   "source": [
    "##### UPC "
   ]
  },
  {
   "cell_type": "code",
   "execution_count": 69,
   "metadata": {},
   "outputs": [
    {
     "data": {
      "text/plain": [
       "30"
      ]
     },
     "execution_count": 69,
     "metadata": {},
     "output_type": "execute_result"
    }
   ],
   "source": [
    "product_data['UPC'].nunique()"
   ]
  },
  {
   "cell_type": "markdown",
   "metadata": {},
   "source": [
    "- The number is consistent through the train and product data.\n",
    "##### Are all the product codes exactly the same?"
   ]
  },
  {
   "cell_type": "code",
   "execution_count": 70,
   "metadata": {},
   "outputs": [
    {
     "data": {
      "text/plain": [
       "30"
      ]
     },
     "execution_count": 70,
     "metadata": {},
     "output_type": "execute_result"
    }
   ],
   "source": [
    "len(set(product_data.UPC).intersection(set(train.UPC)))"
   ]
  },
  {
   "cell_type": "markdown",
   "metadata": {},
   "source": [
    "##### CATEGORY"
   ]
  },
  {
   "cell_type": "code",
   "execution_count": 71,
   "metadata": {},
   "outputs": [
    {
     "data": {
      "text/plain": [
       "(4,\n",
       " array(['BAG SNACKS', 'ORAL HYGIENE PRODUCTS', 'COLD CEREAL',\n",
       "        'FROZEN PIZZA'], dtype=object))"
      ]
     },
     "execution_count": 71,
     "metadata": {},
     "output_type": "execute_result"
    }
   ],
   "source": [
    "# number and list of unique categories in the product data\n",
    "product_data['CATEGORY'].nunique(), product_data['CATEGORY'].unique()"
   ]
  },
  {
   "cell_type": "code",
   "execution_count": 72,
   "metadata": {},
   "outputs": [
    {
     "data": {
      "text/plain": [
       "0"
      ]
     },
     "execution_count": 72,
     "metadata": {},
     "output_type": "execute_result"
    }
   ],
   "source": [
    "product_data['CATEGORY'].isnull().sum()"
   ]
  },
  {
   "cell_type": "code",
   "execution_count": 73,
   "metadata": {},
   "outputs": [
    {
     "data": {
      "text/plain": [
       "COLD CEREAL              9\n",
       "BAG SNACKS               8\n",
       "FROZEN PIZZA             7\n",
       "ORAL HYGIENE PRODUCTS    6\n",
       "Name: CATEGORY, dtype: int64"
      ]
     },
     "execution_count": 73,
     "metadata": {},
     "output_type": "execute_result"
    }
   ],
   "source": [
    "product_data['CATEGORY'].value_counts()"
   ]
  },
  {
   "cell_type": "markdown",
   "metadata": {},
   "source": [
    "- We have four product categories - \n",
    "  *  BAG SNACKS\n",
    "  *  ORAL HYGIENE PRODUCTS \n",
    "  *  COLD CEREAL \n",
    "  *  FROZEN PIZZA\n",
    "\n",
    "- There are 9 products with the category 'Cold Cereal'\n",
    "- Similarly, 8 products labeled 'Bag snacks', 7 with category 'Frozen Pizza' and 6 'Oral Hygiene' Products"
   ]
  },
  {
   "cell_type": "markdown",
   "metadata": {},
   "source": [
    "#### Is there any subdivision among the product categories?"
   ]
  },
  {
   "cell_type": "markdown",
   "metadata": {},
   "source": [
    "#####  SUB_CATEGORY "
   ]
  },
  {
   "cell_type": "code",
   "execution_count": 74,
   "metadata": {
    "scrolled": true
   },
   "outputs": [
    {
     "data": {
      "text/plain": [
       "0"
      ]
     },
     "execution_count": 74,
     "metadata": {},
     "output_type": "execute_result"
    }
   ],
   "source": [
    "product_data['SUB_CATEGORY'].isnull().sum()"
   ]
  },
  {
   "cell_type": "code",
   "execution_count": 75,
   "metadata": {},
   "outputs": [
    {
     "data": {
      "text/plain": [
       "7"
      ]
     },
     "execution_count": 75,
     "metadata": {},
     "output_type": "execute_result"
    }
   ],
   "source": [
    "product_data['SUB_CATEGORY'].nunique()"
   ]
  },
  {
   "cell_type": "code",
   "execution_count": 76,
   "metadata": {},
   "outputs": [
    {
     "data": {
      "text/html": [
       "<div>\n",
       "<style scoped>\n",
       "    .dataframe tbody tr th:only-of-type {\n",
       "        vertical-align: middle;\n",
       "    }\n",
       "\n",
       "    .dataframe tbody tr th {\n",
       "        vertical-align: top;\n",
       "    }\n",
       "\n",
       "    .dataframe thead th {\n",
       "        text-align: right;\n",
       "    }\n",
       "</style>\n",
       "<table border=\"1\" class=\"dataframe\">\n",
       "  <thead>\n",
       "    <tr style=\"text-align: right;\">\n",
       "      <th></th>\n",
       "      <th>CATEGORY</th>\n",
       "      <th>SUB_CATEGORY</th>\n",
       "    </tr>\n",
       "  </thead>\n",
       "  <tbody>\n",
       "    <tr>\n",
       "      <th>0</th>\n",
       "      <td>BAG SNACKS</td>\n",
       "      <td>PRETZELS</td>\n",
       "    </tr>\n",
       "    <tr>\n",
       "      <th>5</th>\n",
       "      <td>COLD CEREAL</td>\n",
       "      <td>ALL FAMILY CEREAL</td>\n",
       "    </tr>\n",
       "    <tr>\n",
       "      <th>6</th>\n",
       "      <td>COLD CEREAL</td>\n",
       "      <td>ADULT CEREAL</td>\n",
       "    </tr>\n",
       "    <tr>\n",
       "      <th>19</th>\n",
       "      <td>COLD CEREAL</td>\n",
       "      <td>KIDS CEREAL</td>\n",
       "    </tr>\n",
       "    <tr>\n",
       "      <th>8</th>\n",
       "      <td>FROZEN PIZZA</td>\n",
       "      <td>PIZZA/PREMIUM</td>\n",
       "    </tr>\n",
       "    <tr>\n",
       "      <th>3</th>\n",
       "      <td>ORAL HYGIENE PRODUCTS</td>\n",
       "      <td>MOUTHWASHES (ANTISEPTIC)</td>\n",
       "    </tr>\n",
       "    <tr>\n",
       "      <th>16</th>\n",
       "      <td>ORAL HYGIENE PRODUCTS</td>\n",
       "      <td>MOUTHWASH/RINSES AND SPRAYS</td>\n",
       "    </tr>\n",
       "  </tbody>\n",
       "</table>\n",
       "</div>"
      ],
      "text/plain": [
       "                 CATEGORY                 SUB_CATEGORY\n",
       "0              BAG SNACKS                     PRETZELS\n",
       "5             COLD CEREAL            ALL FAMILY CEREAL\n",
       "6             COLD CEREAL                 ADULT CEREAL\n",
       "19            COLD CEREAL                  KIDS CEREAL\n",
       "8            FROZEN PIZZA                PIZZA/PREMIUM\n",
       "3   ORAL HYGIENE PRODUCTS     MOUTHWASHES (ANTISEPTIC)\n",
       "16  ORAL HYGIENE PRODUCTS  MOUTHWASH/RINSES AND SPRAYS"
      ]
     },
     "execution_count": 76,
     "metadata": {},
     "output_type": "execute_result"
    }
   ],
   "source": [
    "# displaying subcategories against each category\n",
    "product_data[['CATEGORY','SUB_CATEGORY']].drop_duplicates().sort_values(by = 'CATEGORY')"
   ]
  },
  {
   "cell_type": "markdown",
   "metadata": {},
   "source": [
    "The sub-categories give additional detail about the product.\n",
    "\n",
    "- Cereal has 3 sub categories, differentiating on the age group \n",
    "- Oral hygiene products have 2 sub categories, antiseptic and rinse/spray\n",
    "- Bag Snacks & Frozen Pizza have just 1 sub category, no further division\n",
    "\n",
    "\n",
    "#### Does the sub category has anything to do with the size of the product?"
   ]
  },
  {
   "cell_type": "markdown",
   "metadata": {},
   "source": [
    "#####  \tPRODUCT_SIZE"
   ]
  },
  {
   "cell_type": "code",
   "execution_count": 77,
   "metadata": {
    "colab": {},
    "colab_type": "code",
    "id": "4kxMAvjivzFS",
    "outputId": "c04bf808-1401-4c80-9ff1-67bc9f5b45e4"
   },
   "outputs": [
    {
     "data": {
      "text/html": [
       "<div>\n",
       "<style scoped>\n",
       "    .dataframe tbody tr th:only-of-type {\n",
       "        vertical-align: middle;\n",
       "    }\n",
       "\n",
       "    .dataframe tbody tr th {\n",
       "        vertical-align: top;\n",
       "    }\n",
       "\n",
       "    .dataframe thead th {\n",
       "        text-align: right;\n",
       "    }\n",
       "</style>\n",
       "<table border=\"1\" class=\"dataframe\">\n",
       "  <thead>\n",
       "    <tr style=\"text-align: right;\">\n",
       "      <th></th>\n",
       "      <th>CATEGORY</th>\n",
       "      <th>SUB_CATEGORY</th>\n",
       "      <th>PRODUCT_SIZE</th>\n",
       "    </tr>\n",
       "  </thead>\n",
       "  <tbody>\n",
       "    <tr>\n",
       "      <th>0</th>\n",
       "      <td>BAG SNACKS</td>\n",
       "      <td>PRETZELS</td>\n",
       "      <td>15 OZ</td>\n",
       "    </tr>\n",
       "    <tr>\n",
       "      <th>14</th>\n",
       "      <td>BAG SNACKS</td>\n",
       "      <td>PRETZELS</td>\n",
       "      <td>16 OZ</td>\n",
       "    </tr>\n",
       "    <tr>\n",
       "      <th>25</th>\n",
       "      <td>BAG SNACKS</td>\n",
       "      <td>PRETZELS</td>\n",
       "      <td>10 OZ</td>\n",
       "    </tr>\n",
       "    <tr>\n",
       "      <th>6</th>\n",
       "      <td>COLD CEREAL</td>\n",
       "      <td>ADULT CEREAL</td>\n",
       "      <td>20 OZ</td>\n",
       "    </tr>\n",
       "    <tr>\n",
       "      <th>7</th>\n",
       "      <td>COLD CEREAL</td>\n",
       "      <td>ALL FAMILY CEREAL</td>\n",
       "      <td>18 OZ</td>\n",
       "    </tr>\n",
       "    <tr>\n",
       "      <th>19</th>\n",
       "      <td>COLD CEREAL</td>\n",
       "      <td>KIDS CEREAL</td>\n",
       "      <td>15 OZ</td>\n",
       "    </tr>\n",
       "    <tr>\n",
       "      <th>20</th>\n",
       "      <td>COLD CEREAL</td>\n",
       "      <td>KIDS CEREAL</td>\n",
       "      <td>12.2 OZ</td>\n",
       "    </tr>\n",
       "    <tr>\n",
       "      <th>5</th>\n",
       "      <td>COLD CEREAL</td>\n",
       "      <td>ALL FAMILY CEREAL</td>\n",
       "      <td>12.25 OZ</td>\n",
       "    </tr>\n",
       "    <tr>\n",
       "      <th>13</th>\n",
       "      <td>COLD CEREAL</td>\n",
       "      <td>ALL FAMILY CEREAL</td>\n",
       "      <td>12 OZ</td>\n",
       "    </tr>\n",
       "    <tr>\n",
       "      <th>8</th>\n",
       "      <td>FROZEN PIZZA</td>\n",
       "      <td>PIZZA/PREMIUM</td>\n",
       "      <td>32.7 OZ</td>\n",
       "    </tr>\n",
       "    <tr>\n",
       "      <th>9</th>\n",
       "      <td>FROZEN PIZZA</td>\n",
       "      <td>PIZZA/PREMIUM</td>\n",
       "      <td>30.5 OZ</td>\n",
       "    </tr>\n",
       "    <tr>\n",
       "      <th>10</th>\n",
       "      <td>FROZEN PIZZA</td>\n",
       "      <td>PIZZA/PREMIUM</td>\n",
       "      <td>29.6 OZ</td>\n",
       "    </tr>\n",
       "    <tr>\n",
       "      <th>24</th>\n",
       "      <td>FROZEN PIZZA</td>\n",
       "      <td>PIZZA/PREMIUM</td>\n",
       "      <td>22.7 OZ</td>\n",
       "    </tr>\n",
       "    <tr>\n",
       "      <th>21</th>\n",
       "      <td>FROZEN PIZZA</td>\n",
       "      <td>PIZZA/PREMIUM</td>\n",
       "      <td>29.8 OZ</td>\n",
       "    </tr>\n",
       "    <tr>\n",
       "      <th>23</th>\n",
       "      <td>FROZEN PIZZA</td>\n",
       "      <td>PIZZA/PREMIUM</td>\n",
       "      <td>28.3 OZ</td>\n",
       "    </tr>\n",
       "    <tr>\n",
       "      <th>3</th>\n",
       "      <td>ORAL HYGIENE PRODUCTS</td>\n",
       "      <td>MOUTHWASHES (ANTISEPTIC)</td>\n",
       "      <td>500 ML</td>\n",
       "    </tr>\n",
       "    <tr>\n",
       "      <th>16</th>\n",
       "      <td>ORAL HYGIENE PRODUCTS</td>\n",
       "      <td>MOUTHWASH/RINSES AND SPRAYS</td>\n",
       "      <td>1 LT</td>\n",
       "    </tr>\n",
       "    <tr>\n",
       "      <th>17</th>\n",
       "      <td>ORAL HYGIENE PRODUCTS</td>\n",
       "      <td>MOUTHWASHES (ANTISEPTIC)</td>\n",
       "      <td>1 LT</td>\n",
       "    </tr>\n",
       "  </tbody>\n",
       "</table>\n",
       "</div>"
      ],
      "text/plain": [
       "                 CATEGORY                 SUB_CATEGORY PRODUCT_SIZE\n",
       "0              BAG SNACKS                     PRETZELS        15 OZ\n",
       "14             BAG SNACKS                     PRETZELS        16 OZ\n",
       "25             BAG SNACKS                     PRETZELS        10 OZ\n",
       "6             COLD CEREAL                 ADULT CEREAL        20 OZ\n",
       "7             COLD CEREAL            ALL FAMILY CEREAL        18 OZ\n",
       "19            COLD CEREAL                  KIDS CEREAL        15 OZ\n",
       "20            COLD CEREAL                  KIDS CEREAL      12.2 OZ\n",
       "5             COLD CEREAL            ALL FAMILY CEREAL     12.25 OZ\n",
       "13            COLD CEREAL            ALL FAMILY CEREAL        12 OZ\n",
       "8            FROZEN PIZZA                PIZZA/PREMIUM      32.7 OZ\n",
       "9            FROZEN PIZZA                PIZZA/PREMIUM      30.5 OZ\n",
       "10           FROZEN PIZZA                PIZZA/PREMIUM      29.6 OZ\n",
       "24           FROZEN PIZZA                PIZZA/PREMIUM      22.7 OZ\n",
       "21           FROZEN PIZZA                PIZZA/PREMIUM      29.8 OZ\n",
       "23           FROZEN PIZZA                PIZZA/PREMIUM      28.3 OZ\n",
       "3   ORAL HYGIENE PRODUCTS     MOUTHWASHES (ANTISEPTIC)       500 ML\n",
       "16  ORAL HYGIENE PRODUCTS  MOUTHWASH/RINSES AND SPRAYS         1 LT\n",
       "17  ORAL HYGIENE PRODUCTS     MOUTHWASHES (ANTISEPTIC)         1 LT"
      ]
     },
     "execution_count": 77,
     "metadata": {},
     "output_type": "execute_result"
    }
   ],
   "source": [
    "# unique category, sub-category and product size combinations\n",
    "product_data[['CATEGORY','SUB_CATEGORY','PRODUCT_SIZE']].drop_duplicates().sort_values(by = 'CATEGORY')"
   ]
  },
  {
   "cell_type": "markdown",
   "metadata": {
    "colab_type": "text",
    "id": "Jaht6GiTvzFX"
   },
   "source": [
    "The cold cereal for kids is available in two different sizes.\n",
    "Also, the cold cereal for all family has the same size as the cold cereal for kids.\n",
    "Hence subcategory is not an indicator of size."
   ]
  },
  {
   "cell_type": "markdown",
   "metadata": {
    "colab_type": "text",
    "id": "tw3hRQX_vzFZ"
   },
   "source": [
    "**To summarize**\n",
    "- Bag Snacks has 1 sub category and 3 product size available\n",
    "- Oral Hygiene product has 2 sub categories and 2 size options\n",
    "- Frozen Pizza has only 1 sub category and 6 different package size\n",
    "- cold ceral has 3 sub categoeies, and 6 options in size"
   ]
  },
  {
   "cell_type": "markdown",
   "metadata": {},
   "source": [
    "##### DESCRIPTION "
   ]
  },
  {
   "cell_type": "code",
   "execution_count": 78,
   "metadata": {},
   "outputs": [
    {
     "data": {
      "text/plain": [
       "0"
      ]
     },
     "execution_count": 78,
     "metadata": {},
     "output_type": "execute_result"
    }
   ],
   "source": [
    "product_data['DESCRIPTION'].isnull().sum()"
   ]
  },
  {
   "cell_type": "code",
   "execution_count": 79,
   "metadata": {
    "colab": {},
    "colab_type": "code",
    "id": "r-sZrpzJvzFb",
    "outputId": "4f58c298-7650-4de1-e36b-f08ab273a781"
   },
   "outputs": [
    {
     "data": {
      "text/plain": [
       "(29,\n",
       " array(['PL MINI TWIST PRETZELS', 'PL PRETZEL STICKS', 'PL TWIST PRETZELS',\n",
       "        'PL BL MINT ANTSPTC RINSE', 'PL ANTSPTC SPG MNT MTHWS',\n",
       "        'PL HONEY NUT TOASTD OATS', 'PL RAISIN BRAN',\n",
       "        'PL BT SZ FRSTD SHRD WHT', 'PL SR CRUST SUPRM PIZZA',\n",
       "        'PL SR CRUST 3 MEAT PIZZA', 'PL SR CRUST PEPPRN PIZZA',\n",
       "        'GM HONEY NUT CHEERIOS', 'GM CHEERIOS', 'RLDGLD TINY TWISTS PRTZL',\n",
       "        'RLDGLD PRETZEL STICKS', 'SCOPE ORIG MINT MOUTHWASH',\n",
       "        'CREST PH CLN MINT RINSE', 'KELL BITE SIZE MINI WHEAT',\n",
       "        'KELL FROSTED FLAKES', 'KELL FROOT LOOPS', 'DIGIORNO THREE MEAT',\n",
       "        'DIGRN SUPREME PIZZA', 'DIGRN PEPP PIZZA',\n",
       "        'FRSC BRCK OVN ITL PEP PZ', 'SNYDR PRETZEL RODS',\n",
       "        'SNYDR SOURDOUGH NIBBLERS', 'SNYDR FF MINI PRETZELS',\n",
       "        'LSTRNE CL MINT ANTSPTC MW', 'LSTRNE FRS BRST ANTSPC MW'],\n",
       "       dtype=object))"
      ]
     },
     "execution_count": 79,
     "metadata": {},
     "output_type": "execute_result"
    }
   ],
   "source": [
    "# number and list of unique descriptions in the prodcut data\n",
    "product_data['DESCRIPTION'].nunique(), product_data['DESCRIPTION'].unique()"
   ]
  },
  {
   "cell_type": "markdown",
   "metadata": {
    "colab_type": "text",
    "id": "mpe10GPyvzFg"
   },
   "source": [
    "- We have 29 descriptions in the dataset, for 30 products.\n",
    "- Almost all products have a unique description. "
   ]
  },
  {
   "cell_type": "code",
   "execution_count": 80,
   "metadata": {},
   "outputs": [
    {
     "data": {
      "text/plain": [
       "GM CHEERIOS                  2\n",
       "PL MINI TWIST PRETZELS       1\n",
       "SCOPE ORIG MINT MOUTHWASH    1\n",
       "LSTRNE CL MINT ANTSPTC MW    1\n",
       "SNYDR FF MINI PRETZELS       1\n",
       "SNYDR SOURDOUGH NIBBLERS     1\n",
       "SNYDR PRETZEL RODS           1\n",
       "FRSC BRCK OVN ITL PEP PZ     1\n",
       "DIGRN PEPP PIZZA             1\n",
       "DIGRN SUPREME PIZZA          1\n",
       "DIGIORNO THREE MEAT          1\n",
       "KELL FROOT LOOPS             1\n",
       "KELL FROSTED FLAKES          1\n",
       "KELL BITE SIZE MINI WHEAT    1\n",
       "CREST PH CLN MINT RINSE      1\n",
       "RLDGLD PRETZEL STICKS        1\n",
       "PL PRETZEL STICKS            1\n",
       "RLDGLD TINY TWISTS PRTZL     1\n",
       "GM HONEY NUT CHEERIOS        1\n",
       "PL SR CRUST PEPPRN PIZZA     1\n",
       "PL SR CRUST 3 MEAT PIZZA     1\n",
       "PL SR CRUST SUPRM PIZZA      1\n",
       "PL BT SZ FRSTD SHRD WHT      1\n",
       "PL RAISIN BRAN               1\n",
       "PL HONEY NUT TOASTD OATS     1\n",
       "PL ANTSPTC SPG MNT MTHWS     1\n",
       "PL BL MINT ANTSPTC RINSE     1\n",
       "PL TWIST PRETZELS            1\n",
       "LSTRNE FRS BRST ANTSPC MW    1\n",
       "Name: DESCRIPTION, dtype: int64"
      ]
     },
     "execution_count": 80,
     "metadata": {},
     "output_type": "execute_result"
    }
   ],
   "source": [
    "(product_data['DESCRIPTION'].value_counts())"
   ]
  },
  {
   "cell_type": "code",
   "execution_count": 81,
   "metadata": {},
   "outputs": [
    {
     "data": {
      "text/html": [
       "<div>\n",
       "<style scoped>\n",
       "    .dataframe tbody tr th:only-of-type {\n",
       "        vertical-align: middle;\n",
       "    }\n",
       "\n",
       "    .dataframe tbody tr th {\n",
       "        vertical-align: top;\n",
       "    }\n",
       "\n",
       "    .dataframe thead th {\n",
       "        text-align: right;\n",
       "    }\n",
       "</style>\n",
       "<table border=\"1\" class=\"dataframe\">\n",
       "  <thead>\n",
       "    <tr style=\"text-align: right;\">\n",
       "      <th></th>\n",
       "      <th>UPC</th>\n",
       "      <th>DESCRIPTION</th>\n",
       "      <th>MANUFACTURER</th>\n",
       "      <th>CATEGORY</th>\n",
       "      <th>SUB_CATEGORY</th>\n",
       "      <th>PRODUCT_SIZE</th>\n",
       "    </tr>\n",
       "  </thead>\n",
       "  <tbody>\n",
       "    <tr>\n",
       "      <th>12</th>\n",
       "      <td>1600027528</td>\n",
       "      <td>GM CHEERIOS</td>\n",
       "      <td>GENERAL MI</td>\n",
       "      <td>COLD CEREAL</td>\n",
       "      <td>ALL FAMILY CEREAL</td>\n",
       "      <td>18 OZ</td>\n",
       "    </tr>\n",
       "    <tr>\n",
       "      <th>13</th>\n",
       "      <td>1600027564</td>\n",
       "      <td>GM CHEERIOS</td>\n",
       "      <td>GENERAL MI</td>\n",
       "      <td>COLD CEREAL</td>\n",
       "      <td>ALL FAMILY CEREAL</td>\n",
       "      <td>12 OZ</td>\n",
       "    </tr>\n",
       "  </tbody>\n",
       "</table>\n",
       "</div>"
      ],
      "text/plain": [
       "           UPC  DESCRIPTION MANUFACTURER     CATEGORY       SUB_CATEGORY  \\\n",
       "12  1600027528  GM CHEERIOS   GENERAL MI  COLD CEREAL  ALL FAMILY CEREAL   \n",
       "13  1600027564  GM CHEERIOS   GENERAL MI  COLD CEREAL  ALL FAMILY CEREAL   \n",
       "\n",
       "   PRODUCT_SIZE  \n",
       "12        18 OZ  \n",
       "13        12 OZ  "
      ]
     },
     "execution_count": 81,
     "metadata": {},
     "output_type": "execute_result"
    }
   ],
   "source": [
    "product_data.loc[product_data['DESCRIPTION']=='GM CHEERIOS']"
   ]
  },
  {
   "cell_type": "code",
   "execution_count": 82,
   "metadata": {},
   "outputs": [
    {
     "data": {
      "text/html": [
       "<div>\n",
       "<style scoped>\n",
       "    .dataframe tbody tr th:only-of-type {\n",
       "        vertical-align: middle;\n",
       "    }\n",
       "\n",
       "    .dataframe tbody tr th {\n",
       "        vertical-align: top;\n",
       "    }\n",
       "\n",
       "    .dataframe thead th {\n",
       "        text-align: right;\n",
       "    }\n",
       "</style>\n",
       "<table border=\"1\" class=\"dataframe\">\n",
       "  <thead>\n",
       "    <tr style=\"text-align: right;\">\n",
       "      <th></th>\n",
       "      <th>UPC</th>\n",
       "      <th>DESCRIPTION</th>\n",
       "      <th>MANUFACTURER</th>\n",
       "      <th>CATEGORY</th>\n",
       "      <th>SUB_CATEGORY</th>\n",
       "      <th>PRODUCT_SIZE</th>\n",
       "    </tr>\n",
       "  </thead>\n",
       "  <tbody>\n",
       "    <tr>\n",
       "      <th>11</th>\n",
       "      <td>1600027527</td>\n",
       "      <td>GM HONEY NUT CHEERIOS</td>\n",
       "      <td>GENERAL MI</td>\n",
       "      <td>COLD CEREAL</td>\n",
       "      <td>ALL FAMILY CEREAL</td>\n",
       "      <td>12.25 OZ</td>\n",
       "    </tr>\n",
       "  </tbody>\n",
       "</table>\n",
       "</div>"
      ],
      "text/plain": [
       "           UPC            DESCRIPTION MANUFACTURER     CATEGORY  \\\n",
       "11  1600027527  GM HONEY NUT CHEERIOS   GENERAL MI  COLD CEREAL   \n",
       "\n",
       "         SUB_CATEGORY PRODUCT_SIZE  \n",
       "11  ALL FAMILY CEREAL     12.25 OZ  "
      ]
     },
     "execution_count": 82,
     "metadata": {},
     "output_type": "execute_result"
    }
   ],
   "source": [
    "product_data.loc[product_data['UPC'] == 1600027527]"
   ]
  },
  {
   "cell_type": "markdown",
   "metadata": {},
   "source": [
    "- More granular description for the product\n",
    "- Includes the type of product and manufacturer"
   ]
  },
  {
   "cell_type": "markdown",
   "metadata": {},
   "source": [
    "##### MANUFACTURER"
   ]
  },
  {
   "cell_type": "markdown",
   "metadata": {},
   "source": [
    "\n",
    "#### How many Manufacturers/ suppliers are we associated with?\n",
    "\n",
    "#### Are same products created by multiple manufacturers?\n"
   ]
  },
  {
   "cell_type": "code",
   "execution_count": 83,
   "metadata": {},
   "outputs": [
    {
     "data": {
      "text/plain": [
       "0"
      ]
     },
     "execution_count": 83,
     "metadata": {},
     "output_type": "execute_result"
    }
   ],
   "source": [
    "product_data['MANUFACTURER'].isnull().sum()"
   ]
  },
  {
   "cell_type": "code",
   "execution_count": 84,
   "metadata": {},
   "outputs": [
    {
     "data": {
      "text/plain": [
       "9"
      ]
     },
     "execution_count": 84,
     "metadata": {},
     "output_type": "execute_result"
    }
   ],
   "source": [
    "product_data['MANUFACTURER'].nunique()"
   ]
  },
  {
   "cell_type": "code",
   "execution_count": 85,
   "metadata": {
    "scrolled": true
   },
   "outputs": [
    {
     "data": {
      "text/html": [
       "<div>\n",
       "<style scoped>\n",
       "    .dataframe tbody tr th:only-of-type {\n",
       "        vertical-align: middle;\n",
       "    }\n",
       "\n",
       "    .dataframe tbody tr th {\n",
       "        vertical-align: top;\n",
       "    }\n",
       "\n",
       "    .dataframe thead th {\n",
       "        text-align: right;\n",
       "    }\n",
       "</style>\n",
       "<table border=\"1\" class=\"dataframe\">\n",
       "  <thead>\n",
       "    <tr style=\"text-align: right;\">\n",
       "      <th>MANUFACTURER</th>\n",
       "      <th>FRITO LAY</th>\n",
       "      <th>GENERAL MI</th>\n",
       "      <th>KELLOGG</th>\n",
       "      <th>P &amp; G</th>\n",
       "      <th>PRIVATE LABEL</th>\n",
       "      <th>SNYDER S</th>\n",
       "      <th>TOMBSTONE</th>\n",
       "      <th>TONYS</th>\n",
       "      <th>WARNER</th>\n",
       "    </tr>\n",
       "    <tr>\n",
       "      <th>CATEGORY</th>\n",
       "      <th></th>\n",
       "      <th></th>\n",
       "      <th></th>\n",
       "      <th></th>\n",
       "      <th></th>\n",
       "      <th></th>\n",
       "      <th></th>\n",
       "      <th></th>\n",
       "      <th></th>\n",
       "    </tr>\n",
       "  </thead>\n",
       "  <tbody>\n",
       "    <tr>\n",
       "      <th>BAG SNACKS</th>\n",
       "      <td>1</td>\n",
       "      <td>0</td>\n",
       "      <td>0</td>\n",
       "      <td>0</td>\n",
       "      <td>1</td>\n",
       "      <td>1</td>\n",
       "      <td>0</td>\n",
       "      <td>0</td>\n",
       "      <td>0</td>\n",
       "    </tr>\n",
       "    <tr>\n",
       "      <th>COLD CEREAL</th>\n",
       "      <td>0</td>\n",
       "      <td>1</td>\n",
       "      <td>1</td>\n",
       "      <td>0</td>\n",
       "      <td>1</td>\n",
       "      <td>0</td>\n",
       "      <td>0</td>\n",
       "      <td>0</td>\n",
       "      <td>0</td>\n",
       "    </tr>\n",
       "    <tr>\n",
       "      <th>FROZEN PIZZA</th>\n",
       "      <td>0</td>\n",
       "      <td>0</td>\n",
       "      <td>0</td>\n",
       "      <td>0</td>\n",
       "      <td>1</td>\n",
       "      <td>0</td>\n",
       "      <td>1</td>\n",
       "      <td>1</td>\n",
       "      <td>0</td>\n",
       "    </tr>\n",
       "    <tr>\n",
       "      <th>ORAL HYGIENE PRODUCTS</th>\n",
       "      <td>0</td>\n",
       "      <td>0</td>\n",
       "      <td>0</td>\n",
       "      <td>1</td>\n",
       "      <td>1</td>\n",
       "      <td>0</td>\n",
       "      <td>0</td>\n",
       "      <td>0</td>\n",
       "      <td>1</td>\n",
       "    </tr>\n",
       "  </tbody>\n",
       "</table>\n",
       "</div>"
      ],
      "text/plain": [
       "MANUFACTURER           FRITO LAY  GENERAL MI  KELLOGG  P & G  PRIVATE LABEL  \\\n",
       "CATEGORY                                                                      \n",
       "BAG SNACKS                     1           0        0      0              1   \n",
       "COLD CEREAL                    0           1        1      0              1   \n",
       "FROZEN PIZZA                   0           0        0      0              1   \n",
       "ORAL HYGIENE PRODUCTS          0           0        0      1              1   \n",
       "\n",
       "MANUFACTURER           SNYDER S  TOMBSTONE  TONYS  WARNER  \n",
       "CATEGORY                                                   \n",
       "BAG SNACKS                    1          0      0       0  \n",
       "COLD CEREAL                   0          0      0       0  \n",
       "FROZEN PIZZA                  0          1      1       0  \n",
       "ORAL HYGIENE PRODUCTS         0          0      0       1  "
      ]
     },
     "execution_count": 85,
     "metadata": {},
     "output_type": "execute_result"
    }
   ],
   "source": [
    "# displaying the list of manufacturers against the 4 categories\n",
    "temp = product_data[['CATEGORY','MANUFACTURER']].drop_duplicates()\n",
    "pd.crosstab([temp['CATEGORY']], temp['MANUFACTURER'])"
   ]
  },
  {
   "cell_type": "markdown",
   "metadata": {
    "colab_type": "text",
    "id": "qZm3ycF-vzFK"
   },
   "source": [
    "- We have 4 unique categories of Products\n",
    "- Each category has three manufacturers\n",
    "- Every category has a manufacturer 'private label' (and 2 other manufacturers)"
   ]
  },
  {
   "cell_type": "code",
   "execution_count": null,
   "metadata": {},
   "outputs": [],
   "source": []
  },
  {
   "cell_type": "code",
   "execution_count": null,
   "metadata": {},
   "outputs": [],
   "source": []
  },
  {
   "cell_type": "markdown",
   "metadata": {
    "colab_type": "text",
    "id": "pYqZK0TuvzFl"
   },
   "source": [
    "### Understanding Store Data"
   ]
  },
  {
   "cell_type": "code",
   "execution_count": 86,
   "metadata": {},
   "outputs": [
    {
     "data": {
      "text/html": [
       "<div>\n",
       "<style scoped>\n",
       "    .dataframe tbody tr th:only-of-type {\n",
       "        vertical-align: middle;\n",
       "    }\n",
       "\n",
       "    .dataframe tbody tr th {\n",
       "        vertical-align: top;\n",
       "    }\n",
       "\n",
       "    .dataframe thead th {\n",
       "        text-align: right;\n",
       "    }\n",
       "</style>\n",
       "<table border=\"1\" class=\"dataframe\">\n",
       "  <thead>\n",
       "    <tr style=\"text-align: right;\">\n",
       "      <th></th>\n",
       "      <th>STORE_ID</th>\n",
       "      <th>STORE_NAME</th>\n",
       "      <th>ADDRESS_CITY_NAME</th>\n",
       "      <th>ADDRESS_STATE_PROV_CODE</th>\n",
       "      <th>MSA_CODE</th>\n",
       "      <th>SEG_VALUE_NAME</th>\n",
       "      <th>PARKING_SPACE_QTY</th>\n",
       "      <th>SALES_AREA_SIZE_NUM</th>\n",
       "      <th>AVG_WEEKLY_BASKETS</th>\n",
       "    </tr>\n",
       "  </thead>\n",
       "  <tbody>\n",
       "    <tr>\n",
       "      <th>0</th>\n",
       "      <td>367</td>\n",
       "      <td>15TH &amp; MADISON</td>\n",
       "      <td>COVINGTON</td>\n",
       "      <td>KY</td>\n",
       "      <td>17140</td>\n",
       "      <td>VALUE</td>\n",
       "      <td>196.0</td>\n",
       "      <td>24721</td>\n",
       "      <td>12707</td>\n",
       "    </tr>\n",
       "    <tr>\n",
       "      <th>1</th>\n",
       "      <td>389</td>\n",
       "      <td>SILVERLAKE</td>\n",
       "      <td>ERLANGER</td>\n",
       "      <td>KY</td>\n",
       "      <td>17140</td>\n",
       "      <td>MAINSTREAM</td>\n",
       "      <td>408.0</td>\n",
       "      <td>46073</td>\n",
       "      <td>24767</td>\n",
       "    </tr>\n",
       "    <tr>\n",
       "      <th>2</th>\n",
       "      <td>613</td>\n",
       "      <td>EAST ALLEN</td>\n",
       "      <td>ALLEN</td>\n",
       "      <td>TX</td>\n",
       "      <td>19100</td>\n",
       "      <td>MAINSTREAM</td>\n",
       "      <td>464.0</td>\n",
       "      <td>64926</td>\n",
       "      <td>29386</td>\n",
       "    </tr>\n",
       "    <tr>\n",
       "      <th>3</th>\n",
       "      <td>623</td>\n",
       "      <td>HOUSTON</td>\n",
       "      <td>HOUSTON</td>\n",
       "      <td>TX</td>\n",
       "      <td>26420</td>\n",
       "      <td>MAINSTREAM</td>\n",
       "      <td>NaN</td>\n",
       "      <td>46930</td>\n",
       "      <td>36741</td>\n",
       "    </tr>\n",
       "    <tr>\n",
       "      <th>4</th>\n",
       "      <td>2277</td>\n",
       "      <td>ANDERSON TOWNE CTR</td>\n",
       "      <td>CINCINNATI</td>\n",
       "      <td>OH</td>\n",
       "      <td>17140</td>\n",
       "      <td>UPSCALE</td>\n",
       "      <td>NaN</td>\n",
       "      <td>81958</td>\n",
       "      <td>54053</td>\n",
       "    </tr>\n",
       "  </tbody>\n",
       "</table>\n",
       "</div>"
      ],
      "text/plain": [
       "   STORE_ID          STORE_NAME ADDRESS_CITY_NAME ADDRESS_STATE_PROV_CODE  \\\n",
       "0       367      15TH & MADISON         COVINGTON                      KY   \n",
       "1       389          SILVERLAKE          ERLANGER                      KY   \n",
       "2       613          EAST ALLEN             ALLEN                      TX   \n",
       "3       623             HOUSTON           HOUSTON                      TX   \n",
       "4      2277  ANDERSON TOWNE CTR        CINCINNATI                      OH   \n",
       "\n",
       "   MSA_CODE SEG_VALUE_NAME  PARKING_SPACE_QTY  SALES_AREA_SIZE_NUM  \\\n",
       "0     17140          VALUE              196.0                24721   \n",
       "1     17140     MAINSTREAM              408.0                46073   \n",
       "2     19100     MAINSTREAM              464.0                64926   \n",
       "3     26420     MAINSTREAM                NaN                46930   \n",
       "4     17140        UPSCALE                NaN                81958   \n",
       "\n",
       "   AVG_WEEKLY_BASKETS  \n",
       "0               12707  \n",
       "1               24767  \n",
       "2               29386  \n",
       "3               36741  \n",
       "4               54053  "
      ]
     },
     "execution_count": 86,
     "metadata": {},
     "output_type": "execute_result"
    }
   ],
   "source": [
    "store_data.head()"
   ]
  },
  {
   "cell_type": "code",
   "execution_count": 87,
   "metadata": {},
   "outputs": [
    {
     "data": {
      "text/plain": [
       "STORE_ID                     int64\n",
       "STORE_NAME                  object\n",
       "ADDRESS_CITY_NAME           object\n",
       "ADDRESS_STATE_PROV_CODE     object\n",
       "MSA_CODE                     int64\n",
       "SEG_VALUE_NAME              object\n",
       "PARKING_SPACE_QTY          float64\n",
       "SALES_AREA_SIZE_NUM          int64\n",
       "AVG_WEEKLY_BASKETS           int64\n",
       "dtype: object"
      ]
     },
     "execution_count": 87,
     "metadata": {},
     "output_type": "execute_result"
    }
   ],
   "source": [
    "store_data.dtypes"
   ]
  },
  {
   "cell_type": "markdown",
   "metadata": {},
   "source": [
    "#### Numerical Variables\n",
    "\n",
    "- Check the distribution of numerical variables\n",
    "- Are there any extreme values?\n",
    "- Are there any missing values in the variables?\n",
    "\n",
    "#### Categorical Variables\n",
    "\n",
    "- Check the unique values for categorical variables\n",
    "- Are there any missing values in the variables?\n",
    "- Is there any variable with high cardinality/ sparsity?"
   ]
  },
  {
   "cell_type": "markdown",
   "metadata": {},
   "source": [
    "##### STORE_ID"
   ]
  },
  {
   "cell_type": "code",
   "execution_count": 88,
   "metadata": {},
   "outputs": [
    {
     "data": {
      "text/plain": [
       "76"
      ]
     },
     "execution_count": 88,
     "metadata": {},
     "output_type": "execute_result"
    }
   ],
   "source": [
    "store_data['STORE_ID'].nunique()"
   ]
  },
  {
   "cell_type": "code",
   "execution_count": 89,
   "metadata": {},
   "outputs": [
    {
     "data": {
      "text/plain": [
       "76"
      ]
     },
     "execution_count": 89,
     "metadata": {},
     "output_type": "execute_result"
    }
   ],
   "source": [
    "len(set(store_data.STORE_ID).intersection(set(train.STORE_NUM)))"
   ]
  },
  {
   "cell_type": "markdown",
   "metadata": {},
   "source": [
    "##### STORE_NAME"
   ]
  },
  {
   "cell_type": "code",
   "execution_count": 90,
   "metadata": {},
   "outputs": [
    {
     "data": {
      "text/plain": [
       "0"
      ]
     },
     "execution_count": 90,
     "metadata": {},
     "output_type": "execute_result"
    }
   ],
   "source": [
    "store_data['STORE_NAME'].isnull().sum()"
   ]
  },
  {
   "cell_type": "code",
   "execution_count": 91,
   "metadata": {},
   "outputs": [
    {
     "data": {
      "text/plain": [
       "72"
      ]
     },
     "execution_count": 91,
     "metadata": {},
     "output_type": "execute_result"
    }
   ],
   "source": [
    "store_data['STORE_NAME'].nunique()"
   ]
  },
  {
   "cell_type": "markdown",
   "metadata": {},
   "source": [
    "- The number of unique store IDs is more than number of unique store names\n",
    "- There might be stores with same name, located in different city"
   ]
  },
  {
   "cell_type": "markdown",
   "metadata": {},
   "source": [
    "#### Which store name is being repeated?\n",
    "\n",
    "#### Why do some stores have same name and different ID?"
   ]
  },
  {
   "cell_type": "code",
   "execution_count": 92,
   "metadata": {},
   "outputs": [
    {
     "data": {
      "text/plain": [
       "HOUSTON            4\n",
       "MIDDLETOWN         2\n",
       "15TH & MADISON     1\n",
       "DUNCANVILLE        1\n",
       "WOOD FOREST S/C    1\n",
       "                  ..\n",
       "AT EASTEX FRWY     1\n",
       "DENT               1\n",
       "THE WOODLANDS      1\n",
       "LANDEN             1\n",
       "CARROLLTON         1\n",
       "Name: STORE_NAME, Length: 72, dtype: int64"
      ]
     },
     "execution_count": 92,
     "metadata": {},
     "output_type": "execute_result"
    }
   ],
   "source": [
    "# number of store names repeating\n",
    "store_data['STORE_NAME'].value_counts()"
   ]
  },
  {
   "cell_type": "code",
   "execution_count": 93,
   "metadata": {},
   "outputs": [
    {
     "data": {
      "text/html": [
       "<div>\n",
       "<style scoped>\n",
       "    .dataframe tbody tr th:only-of-type {\n",
       "        vertical-align: middle;\n",
       "    }\n",
       "\n",
       "    .dataframe tbody tr th {\n",
       "        vertical-align: top;\n",
       "    }\n",
       "\n",
       "    .dataframe thead th {\n",
       "        text-align: right;\n",
       "    }\n",
       "</style>\n",
       "<table border=\"1\" class=\"dataframe\">\n",
       "  <thead>\n",
       "    <tr style=\"text-align: right;\">\n",
       "      <th></th>\n",
       "      <th>STORE_ID</th>\n",
       "      <th>STORE_NAME</th>\n",
       "      <th>ADDRESS_CITY_NAME</th>\n",
       "      <th>ADDRESS_STATE_PROV_CODE</th>\n",
       "      <th>MSA_CODE</th>\n",
       "      <th>SEG_VALUE_NAME</th>\n",
       "      <th>PARKING_SPACE_QTY</th>\n",
       "      <th>SALES_AREA_SIZE_NUM</th>\n",
       "      <th>AVG_WEEKLY_BASKETS</th>\n",
       "    </tr>\n",
       "  </thead>\n",
       "  <tbody>\n",
       "    <tr>\n",
       "      <th>3</th>\n",
       "      <td>623</td>\n",
       "      <td>HOUSTON</td>\n",
       "      <td>HOUSTON</td>\n",
       "      <td>TX</td>\n",
       "      <td>26420</td>\n",
       "      <td>MAINSTREAM</td>\n",
       "      <td>NaN</td>\n",
       "      <td>46930</td>\n",
       "      <td>36741</td>\n",
       "    </tr>\n",
       "    <tr>\n",
       "      <th>9</th>\n",
       "      <td>2513</td>\n",
       "      <td>HOUSTON</td>\n",
       "      <td>HOUSTON</td>\n",
       "      <td>TX</td>\n",
       "      <td>26420</td>\n",
       "      <td>UPSCALE</td>\n",
       "      <td>NaN</td>\n",
       "      <td>61833</td>\n",
       "      <td>32423</td>\n",
       "    </tr>\n",
       "    <tr>\n",
       "      <th>54</th>\n",
       "      <td>21485</td>\n",
       "      <td>HOUSTON</td>\n",
       "      <td>KATY</td>\n",
       "      <td>TX</td>\n",
       "      <td>26420</td>\n",
       "      <td>MAINSTREAM</td>\n",
       "      <td>NaN</td>\n",
       "      <td>46369</td>\n",
       "      <td>26472</td>\n",
       "    </tr>\n",
       "    <tr>\n",
       "      <th>59</th>\n",
       "      <td>23327</td>\n",
       "      <td>HOUSTON</td>\n",
       "      <td>HOUSTON</td>\n",
       "      <td>TX</td>\n",
       "      <td>26420</td>\n",
       "      <td>MAINSTREAM</td>\n",
       "      <td>NaN</td>\n",
       "      <td>50722</td>\n",
       "      <td>30258</td>\n",
       "    </tr>\n",
       "  </tbody>\n",
       "</table>\n",
       "</div>"
      ],
      "text/plain": [
       "    STORE_ID STORE_NAME ADDRESS_CITY_NAME ADDRESS_STATE_PROV_CODE  MSA_CODE  \\\n",
       "3        623    HOUSTON           HOUSTON                      TX     26420   \n",
       "9       2513    HOUSTON           HOUSTON                      TX     26420   \n",
       "54     21485    HOUSTON              KATY                      TX     26420   \n",
       "59     23327    HOUSTON           HOUSTON                      TX     26420   \n",
       "\n",
       "   SEG_VALUE_NAME  PARKING_SPACE_QTY  SALES_AREA_SIZE_NUM  AVG_WEEKLY_BASKETS  \n",
       "3      MAINSTREAM                NaN                46930               36741  \n",
       "9         UPSCALE                NaN                61833               32423  \n",
       "54     MAINSTREAM                NaN                46369               26472  \n",
       "59     MAINSTREAM                NaN                50722               30258  "
      ]
     },
     "execution_count": 93,
     "metadata": {},
     "output_type": "execute_result"
    }
   ],
   "source": [
    "store_data.loc[store_data['STORE_NAME'] == 'HOUSTON']"
   ]
  },
  {
   "cell_type": "code",
   "execution_count": 94,
   "metadata": {},
   "outputs": [
    {
     "data": {
      "text/html": [
       "<div>\n",
       "<style scoped>\n",
       "    .dataframe tbody tr th:only-of-type {\n",
       "        vertical-align: middle;\n",
       "    }\n",
       "\n",
       "    .dataframe tbody tr th {\n",
       "        vertical-align: top;\n",
       "    }\n",
       "\n",
       "    .dataframe thead th {\n",
       "        text-align: right;\n",
       "    }\n",
       "</style>\n",
       "<table border=\"1\" class=\"dataframe\">\n",
       "  <thead>\n",
       "    <tr style=\"text-align: right;\">\n",
       "      <th></th>\n",
       "      <th>STORE_ID</th>\n",
       "      <th>STORE_NAME</th>\n",
       "      <th>ADDRESS_CITY_NAME</th>\n",
       "      <th>ADDRESS_STATE_PROV_CODE</th>\n",
       "      <th>MSA_CODE</th>\n",
       "      <th>SEG_VALUE_NAME</th>\n",
       "      <th>PARKING_SPACE_QTY</th>\n",
       "      <th>SALES_AREA_SIZE_NUM</th>\n",
       "      <th>AVG_WEEKLY_BASKETS</th>\n",
       "    </tr>\n",
       "  </thead>\n",
       "  <tbody>\n",
       "    <tr>\n",
       "      <th>50</th>\n",
       "      <td>21221</td>\n",
       "      <td>MIDDLETOWN</td>\n",
       "      <td>MIDDLETOWN</td>\n",
       "      <td>OH</td>\n",
       "      <td>17140</td>\n",
       "      <td>VALUE</td>\n",
       "      <td>NaN</td>\n",
       "      <td>48128</td>\n",
       "      <td>17010</td>\n",
       "    </tr>\n",
       "    <tr>\n",
       "      <th>74</th>\n",
       "      <td>28909</td>\n",
       "      <td>MIDDLETOWN</td>\n",
       "      <td>MIDDLETOWN</td>\n",
       "      <td>OH</td>\n",
       "      <td>17140</td>\n",
       "      <td>MAINSTREAM</td>\n",
       "      <td>NaN</td>\n",
       "      <td>85876</td>\n",
       "      <td>28986</td>\n",
       "    </tr>\n",
       "  </tbody>\n",
       "</table>\n",
       "</div>"
      ],
      "text/plain": [
       "    STORE_ID  STORE_NAME ADDRESS_CITY_NAME ADDRESS_STATE_PROV_CODE  MSA_CODE  \\\n",
       "50     21221  MIDDLETOWN        MIDDLETOWN                      OH     17140   \n",
       "74     28909  MIDDLETOWN        MIDDLETOWN                      OH     17140   \n",
       "\n",
       "   SEG_VALUE_NAME  PARKING_SPACE_QTY  SALES_AREA_SIZE_NUM  AVG_WEEKLY_BASKETS  \n",
       "50          VALUE                NaN                48128               17010  \n",
       "74     MAINSTREAM                NaN                85876               28986  "
      ]
     },
     "execution_count": 94,
     "metadata": {},
     "output_type": "execute_result"
    }
   ],
   "source": [
    "store_data.loc[store_data['STORE_NAME'] == 'MIDDLETOWN']"
   ]
  },
  {
   "cell_type": "markdown",
   "metadata": {},
   "source": [
    "The store names that are repeated, are actually different stores which either have a different city or different segment (upscale, mainstream, value) or  location. Hence they are given a different IDs. "
   ]
  },
  {
   "cell_type": "markdown",
   "metadata": {},
   "source": [
    "##### ADDRESS_CITY_NAME  and ADDRESS_STATE_PROV_CODE"
   ]
  },
  {
   "cell_type": "code",
   "execution_count": 95,
   "metadata": {
    "scrolled": true
   },
   "outputs": [
    {
     "data": {
      "text/plain": [
       "ADDRESS_STATE_PROV_CODE    0\n",
       "ADDRESS_CITY_NAME          0\n",
       "dtype: int64"
      ]
     },
     "execution_count": 95,
     "metadata": {},
     "output_type": "execute_result"
    }
   ],
   "source": [
    "store_data[['ADDRESS_STATE_PROV_CODE', 'ADDRESS_CITY_NAME']].isnull().sum()"
   ]
  },
  {
   "cell_type": "markdown",
   "metadata": {},
   "source": [
    "#### How many cities and states are the stores located in?"
   ]
  },
  {
   "cell_type": "code",
   "execution_count": 96,
   "metadata": {
    "scrolled": true
   },
   "outputs": [
    {
     "data": {
      "text/plain": [
       "ADDRESS_STATE_PROV_CODE     4\n",
       "ADDRESS_CITY_NAME          51\n",
       "dtype: int64"
      ]
     },
     "execution_count": 96,
     "metadata": {},
     "output_type": "execute_result"
    }
   ],
   "source": [
    "store_data[['ADDRESS_STATE_PROV_CODE', 'ADDRESS_CITY_NAME']].nunique()"
   ]
  },
  {
   "cell_type": "markdown",
   "metadata": {},
   "source": [
    "<img src = 'texas-to-ohio-map-map-of-arizona-and-california-cities-california-map-major-cities-of-texas-to-ohio-map.jpg' width = 700 height = 700>"
   ]
  },
  {
   "cell_type": "markdown",
   "metadata": {
    "colab_type": "text",
    "id": "E5MwmkEovzF4"
   },
   "source": [
    "Let's find out the number of stores in each of the state "
   ]
  },
  {
   "cell_type": "code",
   "execution_count": 97,
   "metadata": {
    "scrolled": true
   },
   "outputs": [
    {
     "data": {
      "text/plain": [
       "ADDRESS_STATE_PROV_CODE\n",
       "IN     1\n",
       "KY     4\n",
       "OH    30\n",
       "TX    41\n",
       "Name: STORE_ID, dtype: int64"
      ]
     },
     "execution_count": 97,
     "metadata": {},
     "output_type": "execute_result"
    }
   ],
   "source": [
    "store_data.groupby(['ADDRESS_STATE_PROV_CODE'])['STORE_ID'].count()"
   ]
  },
  {
   "cell_type": "markdown",
   "metadata": {
    "colab_type": "text",
    "id": "4YOyMgYIvzF7"
   },
   "source": [
    "- Each store has a unique store ID \n",
    "- Most stores are from Ohio and Texas ~93%\n",
    "- Few from Kentucky and Indiana ~7%"
   ]
  },
  {
   "cell_type": "code",
   "execution_count": 98,
   "metadata": {},
   "outputs": [
    {
     "data": {
      "text/plain": [
       "ADDRESS_STATE_PROV_CODE\n",
       "IN     1\n",
       "KY     3\n",
       "OH    16\n",
       "TX    31\n",
       "Name: ADDRESS_CITY_NAME, dtype: int64"
      ]
     },
     "execution_count": 98,
     "metadata": {},
     "output_type": "execute_result"
    }
   ],
   "source": [
    "store_data.groupby(['ADDRESS_STATE_PROV_CODE'])['ADDRESS_CITY_NAME'].nunique()"
   ]
  },
  {
   "cell_type": "code",
   "execution_count": 99,
   "metadata": {},
   "outputs": [
    {
     "data": {
      "text/plain": [
       "CINCINNATI         9\n",
       "HOUSTON            8\n",
       "MIDDLETOWN         3\n",
       "COVINGTON          2\n",
       "SUGAR LAND         2\n",
       "LOVELAND           2\n",
       "MAINEVILLE         2\n",
       "HAMILTON           2\n",
       "KATY               2\n",
       "MCKINNEY           2\n",
       "DAYTON             2\n",
       "CROWLEY            1\n",
       "GOSHEN             1\n",
       "PASADENA           1\n",
       "WOODLANDS          1\n",
       "MESQUITE           1\n",
       "SPRINGFIELD        1\n",
       "FLOWER MOUND       1\n",
       "SOUTHLAKE          1\n",
       "FRISCO             1\n",
       "WEST CHESTER       1\n",
       "DENTON             1\n",
       "CYPRESS            1\n",
       "LEBANON            1\n",
       "RICHARDSON         1\n",
       "GARLAND            1\n",
       "KETTERING          1\n",
       "DUNCANVILLE        1\n",
       "VANDALIA           1\n",
       "MAGNOLIA           1\n",
       "BEAUMONT           1\n",
       "ALLEN              1\n",
       "MILFORD            1\n",
       "BLUE ASH           1\n",
       "CLUTE              1\n",
       "DICKINSON          1\n",
       "GRAND PRAIRIE      1\n",
       "ARLINGTON          1\n",
       "LAWRENCEBURG       1\n",
       "ROCKWALL           1\n",
       "COLLEGE STATION    1\n",
       "MASON              1\n",
       "SAINT MARYS        1\n",
       "KINGWOOD           1\n",
       "BAYTOWN            1\n",
       "THE WOODLANDS      1\n",
       "INDEPENDENCE       1\n",
       "DALLAS             1\n",
       "SHERMAN            1\n",
       "ERLANGER           1\n",
       "CARROLLTON         1\n",
       "Name: ADDRESS_CITY_NAME, dtype: int64"
      ]
     },
     "execution_count": 99,
     "metadata": {},
     "output_type": "execute_result"
    }
   ],
   "source": [
    "store_data['ADDRESS_CITY_NAME'].value_counts()"
   ]
  },
  {
   "cell_type": "markdown",
   "metadata": {},
   "source": [
    "##### MSA_CODE"
   ]
  },
  {
   "cell_type": "code",
   "execution_count": 100,
   "metadata": {},
   "outputs": [
    {
     "data": {
      "text/plain": [
       "0"
      ]
     },
     "execution_count": 100,
     "metadata": {},
     "output_type": "execute_result"
    }
   ],
   "source": [
    "store_data['MSA_CODE'].isnull().sum()"
   ]
  },
  {
   "cell_type": "code",
   "execution_count": 101,
   "metadata": {
    "colab": {},
    "colab_type": "code",
    "id": "QfHATA53vzF-",
    "outputId": "1d0d0f94-955b-441e-98e1-ec8c095f3356"
   },
   "outputs": [
    {
     "data": {
      "text/plain": [
       "(9, array([17140, 19100, 26420, 17780, 47540, 43300, 19380, 13140, 44220]))"
      ]
     },
     "execution_count": 101,
     "metadata": {},
     "output_type": "execute_result"
    }
   ],
   "source": [
    "store_data['MSA_CODE'].nunique(), store_data['MSA_CODE'].unique()"
   ]
  },
  {
   "cell_type": "code",
   "execution_count": 102,
   "metadata": {
    "colab": {},
    "colab_type": "code",
    "id": "lDt1r2ifvzGA",
    "outputId": "33936408-91d9-4a2d-8ec5-9ac875ff0e7b"
   },
   "outputs": [
    {
     "data": {
      "text/plain": [
       "17140    29\n",
       "26420    21\n",
       "19100    17\n",
       "19380     4\n",
       "17780     1\n",
       "47540     1\n",
       "43300     1\n",
       "13140     1\n",
       "44220     1\n",
       "Name: MSA_CODE, dtype: int64"
      ]
     },
     "execution_count": 102,
     "metadata": {},
     "output_type": "execute_result"
    }
   ],
   "source": [
    "store_data['MSA_CODE'].value_counts()"
   ]
  },
  {
   "cell_type": "code",
   "execution_count": 103,
   "metadata": {},
   "outputs": [
    {
     "data": {
      "text/plain": [
       "MSA_CODE  ADDRESS_STATE_PROV_CODE\n",
       "13140     TX                          1\n",
       "17140     IN                          1\n",
       "          KY                          4\n",
       "          OH                         24\n",
       "17780     TX                          1\n",
       "19100     TX                         17\n",
       "19380     OH                          4\n",
       "26420     TX                         21\n",
       "43300     TX                          1\n",
       "44220     OH                          1\n",
       "47540     OH                          1\n",
       "Name: STORE_ID, dtype: int64"
      ]
     },
     "execution_count": 103,
     "metadata": {},
     "output_type": "execute_result"
    }
   ],
   "source": [
    "(store_data.groupby(['MSA_CODE', 'ADDRESS_STATE_PROV_CODE'])['STORE_ID'].count())"
   ]
  },
  {
   "cell_type": "markdown",
   "metadata": {},
   "source": [
    "- These codes are assigned based on the geographical location and population density. \n",
    "- 17140 is present in all three except Texas (which has a different geographical region)"
   ]
  },
  {
   "cell_type": "markdown",
   "metadata": {},
   "source": [
    "##### PARKING_SPACE_QTY  and SALES_AREA_SIZE_NUM "
   ]
  },
  {
   "cell_type": "code",
   "execution_count": 104,
   "metadata": {},
   "outputs": [
    {
     "data": {
      "text/plain": [
       "PARKING_SPACE_QTY      51\n",
       "SALES_AREA_SIZE_NUM     0\n",
       "dtype: int64"
      ]
     },
     "execution_count": 104,
     "metadata": {},
     "output_type": "execute_result"
    }
   ],
   "source": [
    "store_data[['PARKING_SPACE_QTY', 'SALES_AREA_SIZE_NUM']].isnull().sum()"
   ]
  },
  {
   "cell_type": "markdown",
   "metadata": {},
   "source": [
    "- Of 76 stores, parking area of 51 is missing"
   ]
  },
  {
   "cell_type": "code",
   "execution_count": 105,
   "metadata": {},
   "outputs": [
    {
     "data": {
      "image/png": "[encoded data removed]",
      "text/plain": [
       "<Figure size 576x432 with 1 Axes>"
      ]
     },
     "metadata": {
      "needs_background": "light"
     },
     "output_type": "display_data"
    }
   ],
   "source": [
    "plt.figure(figsize=(8,6))\n",
    "sns.distplot(store_data['PARKING_SPACE_QTY'], bins=25, kde=False)\n",
    "plt.xlabel('Parking Area Size', fontsize=12)\n",
    "plt.show()"
   ]
  },
  {
   "cell_type": "markdown",
   "metadata": {},
   "source": [
    "- About 15 stores have parking area between 250 - 500 units"
   ]
  },
  {
   "cell_type": "code",
   "execution_count": 106,
   "metadata": {},
   "outputs": [
    {
     "data": {
      "image/png": "[encoded data removed]",
      "text/plain": [
       "<Figure size 576x432 with 1 Axes>"
      ]
     },
     "metadata": {
      "needs_background": "light"
     },
     "output_type": "display_data"
    }
   ],
   "source": [
    "plt.figure(figsize=(8,6))\n",
    "sns.distplot(store_data['SALES_AREA_SIZE_NUM'], bins=30, kde=True)\n",
    "plt.xlabel('Sales Area Size (Sq Feet)', fontsize=12)\n",
    "plt.show()"
   ]
  },
  {
   "cell_type": "markdown",
   "metadata": {},
   "source": [
    "- Most stores have the area between 30-70 K\n",
    "- Only a small number of stores have area less than 30k or greater than 90k"
   ]
  },
  {
   "cell_type": "markdown",
   "metadata": {},
   "source": [
    "#### How is Average store size varying for different states?"
   ]
  },
  {
   "cell_type": "code",
   "execution_count": 107,
   "metadata": {},
   "outputs": [
    {
     "data": {
      "text/plain": [
       "ADDRESS_STATE_PROV_CODE\n",
       "IN    58563.000000\n",
       "OH    52691.200000\n",
       "TX    46920.902439\n",
       "KY    39855.500000\n",
       "Name: SALES_AREA_SIZE_NUM, dtype: float64"
      ]
     },
     "execution_count": 107,
     "metadata": {},
     "output_type": "execute_result"
    }
   ],
   "source": [
    "(store_data.groupby(['ADDRESS_STATE_PROV_CODE'])['SALES_AREA_SIZE_NUM'].mean()).sort_values(ascending=False)"
   ]
  },
  {
   "cell_type": "code",
   "execution_count": 108,
   "metadata": {},
   "outputs": [
    {
     "data": {
      "text/plain": [
       "<AxesSubplot:xlabel='SALES_AREA_SIZE_NUM', ylabel='Density'>"
      ]
     },
     "execution_count": 108,
     "metadata": {},
     "output_type": "execute_result"
    },
    {
     "data": {
      "image/png": "[encoded data removed]",
      "text/plain": [
       "<Figure size 432x288 with 1 Axes>"
      ]
     },
     "metadata": {
      "needs_background": "light"
     },
     "output_type": "display_data"
    }
   ],
   "source": [
    "state_oh = store_data.loc[store_data['ADDRESS_STATE_PROV_CODE'] == 'OH']\n",
    "state_tx = store_data.loc[store_data['ADDRESS_STATE_PROV_CODE'] == 'TX']\n",
    "\n",
    "sns.distplot(state_oh['SALES_AREA_SIZE_NUM'], hist=False,color= 'dodgerblue', label= 'OHIO')\n",
    "sns.distplot(state_tx['SALES_AREA_SIZE_NUM'], hist=False,  color= 'orange', label= 'TEXAS')\n"
   ]
  },
  {
   "cell_type": "markdown",
   "metadata": {},
   "source": [
    "- Indiana has only one store and the area size is 58,563 sq feet. \n",
    "- Ohio and Texas have average around 52k and 50k. \n",
    "- Ohio has stores distributed at all sizes.\n",
    "- Texas mainly has stores between sales area 30k to 60k "
   ]
  },
  {
   "cell_type": "markdown",
   "metadata": {},
   "source": [
    "##### AVG_WEEKLY_BASKETS"
   ]
  },
  {
   "cell_type": "code",
   "execution_count": 109,
   "metadata": {},
   "outputs": [
    {
     "data": {
      "text/plain": [
       "0"
      ]
     },
     "execution_count": 109,
     "metadata": {},
     "output_type": "execute_result"
    }
   ],
   "source": [
    "store_data['AVG_WEEKLY_BASKETS'].isnull().sum()"
   ]
  },
  {
   "cell_type": "code",
   "execution_count": 110,
   "metadata": {},
   "outputs": [
    {
     "data": {
      "text/plain": [
       "count       76.000000\n",
       "mean     24226.921053\n",
       "std       8863.939362\n",
       "min      10435.000000\n",
       "25%      16983.500000\n",
       "50%      24667.500000\n",
       "75%      29398.500000\n",
       "max      54053.000000\n",
       "Name: AVG_WEEKLY_BASKETS, dtype: float64"
      ]
     },
     "execution_count": 110,
     "metadata": {},
     "output_type": "execute_result"
    }
   ],
   "source": [
    "store_data['AVG_WEEKLY_BASKETS'].describe()"
   ]
  },
  {
   "cell_type": "code",
   "execution_count": 111,
   "metadata": {},
   "outputs": [
    {
     "data": {
      "image/png": "[encoded data removed]",
      "text/plain": [
       "<Figure size 576x432 with 1 Axes>"
      ]
     },
     "metadata": {
      "needs_background": "light"
     },
     "output_type": "display_data"
    }
   ],
   "source": [
    "plt.figure(figsize=(8,6))\n",
    "sns.distplot(store_data['AVG_WEEKLY_BASKETS'], bins=30, kde=True)\n",
    "plt.xlabel('Average Baskets sold per week', fontsize=12)\n",
    "plt.show()"
   ]
  },
  {
   "cell_type": "markdown",
   "metadata": {},
   "source": [
    "#### What are the average weekly baskets sold for the states? "
   ]
  },
  {
   "cell_type": "code",
   "execution_count": 112,
   "metadata": {},
   "outputs": [
    {
     "data": {
      "text/plain": [
       "ADDRESS_STATE_PROV_CODE\n",
       "OH    26113.766667\n",
       "TX    23234.195122\n",
       "KY    21489.000000\n",
       "IN    19275.000000\n",
       "Name: AVG_WEEKLY_BASKETS, dtype: float64"
      ]
     },
     "execution_count": 112,
     "metadata": {},
     "output_type": "execute_result"
    }
   ],
   "source": [
    "(store_data.groupby(['ADDRESS_STATE_PROV_CODE'])['AVG_WEEKLY_BASKETS'].mean()).sort_values(ascending=False)"
   ]
  },
  {
   "cell_type": "markdown",
   "metadata": {},
   "source": [
    "##### SEG_VALUE_NAME"
   ]
  },
  {
   "cell_type": "code",
   "execution_count": 113,
   "metadata": {},
   "outputs": [
    {
     "data": {
      "text/plain": [
       "0"
      ]
     },
     "execution_count": 113,
     "metadata": {},
     "output_type": "execute_result"
    }
   ],
   "source": [
    "store_data['SEG_VALUE_NAME'].isnull().sum()"
   ]
  },
  {
   "cell_type": "markdown",
   "metadata": {},
   "source": [
    "There are certain segments assigned to store, based on the brand and quality of products sold at the store.\n",
    "\n",
    "- **Upscale stores** : Located in high income neighborhoods and offer more high-end product\n",
    "- **Mainstream stores** : Located in middle class areas, offering a mix of upscale and value product\n",
    "- **Value stores** : Focus on low prices products targeting low income customers"
   ]
  },
  {
   "cell_type": "markdown",
   "metadata": {},
   "source": [
    "Let us look at the distribution of stores in each of these segments"
   ]
  },
  {
   "cell_type": "code",
   "execution_count": 114,
   "metadata": {},
   "outputs": [
    {
     "data": {
      "text/plain": [
       "MAINSTREAM    43\n",
       "VALUE         19\n",
       "UPSCALE       14\n",
       "Name: SEG_VALUE_NAME, dtype: int64"
      ]
     },
     "execution_count": 114,
     "metadata": {},
     "output_type": "execute_result"
    }
   ],
   "source": [
    "store_data['SEG_VALUE_NAME'].value_counts()"
   ]
  },
  {
   "cell_type": "markdown",
   "metadata": {},
   "source": [
    "#### Does the segment has any relation with the store area?\n",
    "\n",
    "#### Is there a difference in the average sales for each segment?"
   ]
  },
  {
   "cell_type": "code",
   "execution_count": 115,
   "metadata": {},
   "outputs": [
    {
     "data": {
      "text/plain": [
       "SEG_VALUE_NAME\n",
       "UPSCALE       59556.428571\n",
       "MAINSTREAM    50075.976744\n",
       "VALUE         38706.368421\n",
       "Name: SALES_AREA_SIZE_NUM, dtype: float64"
      ]
     },
     "execution_count": 115,
     "metadata": {},
     "output_type": "execute_result"
    }
   ],
   "source": [
    "(store_data.groupby(['SEG_VALUE_NAME'])['SALES_AREA_SIZE_NUM'].mean()).sort_values(ascending=False)"
   ]
  },
  {
   "cell_type": "code",
   "execution_count": 116,
   "metadata": {
    "scrolled": true
   },
   "outputs": [
    {
     "data": {
      "text/plain": [
       "SEG_VALUE_NAME\n",
       "UPSCALE       28735.928571\n",
       "MAINSTREAM    24024.093023\n",
       "VALUE         21363.526316\n",
       "Name: AVG_WEEKLY_BASKETS, dtype: float64"
      ]
     },
     "execution_count": 116,
     "metadata": {},
     "output_type": "execute_result"
    }
   ],
   "source": [
    "(store_data.groupby(['SEG_VALUE_NAME'])['AVG_WEEKLY_BASKETS'].mean()).sort_values(ascending=False)"
   ]
  }
 ],
 "metadata": {
  "colab": {
   "name": "EDA_ 3.ipynb",
   "provenance": []
  },
  "kernelspec": {
   "display_name": "Python 3 (ipykernel)",
   "language": "python",
   "name": "python3"
  },
  "language_info": {
   "codemirror_mode": {
    "name": "ipython",
    "version": 3
   },
   "file_extension": ".py",
   "mimetype": "text/x-python",
   "name": "python",
   "nbconvert_exporter": "python",
   "pygments_lexer": "ipython3",
   "version": "3.12.4"
  }
 },
 "nbformat": 4,
 "nbformat_minor": 4
}
